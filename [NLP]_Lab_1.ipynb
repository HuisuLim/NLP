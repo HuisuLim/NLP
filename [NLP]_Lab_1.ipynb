{
  "cells": [
    {
      "cell_type": "markdown",
      "metadata": {
        "id": "view-in-github",
        "colab_type": "text"
      },
      "source": [
        "<a href=\"https://colab.research.google.com/github/HuisuLim/NLP/blob/main/%5BNLP%5D_Lab_1.ipynb\" target=\"_parent\"><img src=\"https://colab.research.google.com/assets/colab-badge.svg\" alt=\"Open In Colab\"/></a>"
      ]
    },
    {
      "cell_type": "markdown",
      "metadata": {
        "id": "sF0BmaZ-1zmk"
      },
      "source": [
        "#Analyzing Text Data\n",
        "## Load relevent Packages"
      ]
    },
    {
      "cell_type": "code",
      "execution_count": 218,
      "metadata": {
        "colab": {
          "base_uri": "https://localhost:8080/"
        },
        "id": "lG40Q87R1zmm",
        "outputId": "e24b6179-5a57-474c-89f4-f06a8735cd96"
      },
      "outputs": [
        {
          "output_type": "stream",
          "name": "stderr",
          "text": [
            "[nltk_data] Downloading package punkt_tab to /root/nltk_data...\n",
            "[nltk_data]   Package punkt_tab is already up-to-date!\n",
            "[nltk_data] Downloading package stopwords to /root/nltk_data...\n",
            "[nltk_data]   Package stopwords is already up-to-date!\n",
            "[nltk_data] Downloading package omw-1.4 to /root/nltk_data...\n",
            "[nltk_data]   Package omw-1.4 is already up-to-date!\n",
            "[nltk_data] Downloading package wordnet to /root/nltk_data...\n",
            "[nltk_data]   Package wordnet is already up-to-date!\n",
            "[nltk_data] Downloading package averaged_perceptron_tagger_eng to\n",
            "[nltk_data]     /root/nltk_data...\n",
            "[nltk_data]   Package averaged_perceptron_tagger_eng is already up-to-\n",
            "[nltk_data]       date!\n"
          ]
        },
        {
          "output_type": "execute_result",
          "data": {
            "text/plain": [
              "True"
            ]
          },
          "metadata": {},
          "execution_count": 218
        }
      ],
      "source": [
        "# Import spacy\n",
        "import spacy\n",
        "\n",
        "# Loading NLTK module\n",
        "import nltk\n",
        "\n",
        "# downloading punkt\n",
        "nltk.download('punkt_tab')\n",
        "\n",
        "# downloading stopwords\n",
        "nltk.download('stopwords')\n",
        "\n",
        "# downloading omw-1.4\n",
        "nltk.download('omw-1.4')\n",
        "\n",
        "# downloading wordnet\n",
        "nltk.download('wordnet')\n",
        "\n",
        "# downloading average_perception_tagger\n",
        "nltk.download('averaged_perceptron_tagger_eng')"
      ]
    },
    {
      "cell_type": "markdown",
      "metadata": {
        "id": "hFLNnmbs1zmm"
      },
      "source": [
        "## Tokenization"
      ]
    },
    {
      "cell_type": "code",
      "execution_count": 219,
      "metadata": {
        "colab": {
          "base_uri": "https://localhost:8080/"
        },
        "id": "YTtW6Iuq1zmn",
        "outputId": "f0e9adc4-9633-47ee-e21c-3bfe2eb145b1"
      },
      "outputs": [
        {
          "output_type": "stream",
          "name": "stdout",
          "text": [
            "['Taj Mahal is one of the beautiful monuments.', 'It is one of the wonders of the world.', 'It was built by Shah Jahan in 1631 in memory of his third beloved wife Mumtaj Mahal.']\n"
          ]
        }
      ],
      "source": [
        "# Sentence Tokenization\n",
        "from nltk.tokenize import sent_tokenize\n",
        "\n",
        "paragraph=\"\"\"Taj Mahal is one of the beautiful monuments. It is one of the wonders of the world. It was built by Shah Jahan in 1631 in memory of his third beloved wife Mumtaj Mahal.\"\"\"\n",
        "\n",
        "tokenized_sentences=sent_tokenize(paragraph)\n",
        "print(tokenized_sentences)"
      ]
    },
    {
      "cell_type": "code",
      "execution_count": 220,
      "metadata": {
        "colab": {
          "base_uri": "https://localhost:8080/"
        },
        "id": "HiuBT-jm1zmn",
        "outputId": "ae382e65-a62e-4e2a-efbd-28db3aef2573"
      },
      "outputs": [
        {
          "output_type": "stream",
          "name": "stdout",
          "text": [
            "['Taj Mahal is one of the beautiful monuments.', 'It is one of the wonders of the world.', 'It was built by Shah Jahan in 1631 in memory of his third beloved wife Mumtaj Mahal.']\n"
          ]
        }
      ],
      "source": [
        "# Loading english language model\n",
        "nlp = spacy.load(\"en_core_web_sm\")\n",
        "\n",
        "# Append the sentencizer pipe to the nlp pipeline\n",
        "nlp.add_pipe('sentencizer')\n",
        "\n",
        "paragraph = \"\"\"Taj Mahal is one of the beautiful monuments. It is one of the wonders of the world. It was built by Shah Jahan in 1631 in memory of his third beloved wife Mumtaj Mahal.\"\"\"\n",
        "\n",
        "# Create nlp Object to handle linguistic annotations in a documents.\n",
        "nlp_doc = nlp(paragraph)\n",
        "\n",
        "# Generate list of tokenized sentence\n",
        "tokenized_sentences = []\n",
        "for sentence in nlp_doc.sents:\n",
        "    tokenized_sentences.append(sentence.text)\n",
        "print(tokenized_sentences)"
      ]
    },
    {
      "cell_type": "code",
      "execution_count": 221,
      "metadata": {
        "colab": {
          "base_uri": "https://localhost:8080/"
        },
        "id": "nscR6b8g1zmn",
        "outputId": "223ee4e5-973f-464d-e5d1-77ad31918ec6"
      },
      "outputs": [
        {
          "output_type": "stream",
          "name": "stdout",
          "text": [
            "['Taj', 'Mahal', 'is', 'one', 'of', 'the', 'beautiful', 'monuments', '.', 'It', 'is', 'one', 'of', 'the', 'wonders', 'of', 'the', 'world', '.', 'It', 'was', 'built', 'by', 'Shah', 'Jahan', 'in', '1631', 'in', 'memory', 'of', 'his', 'third', 'beloved', 'wife', 'Mumtaj', 'Mahal', '.']\n"
          ]
        }
      ],
      "source": [
        "# Import nltk word_tokenize method\n",
        "from nltk.tokenize import word_tokenize\n",
        "\n",
        "# Split paragraph into words\n",
        "tokenized_words=word_tokenize(paragraph)\n",
        "print(tokenized_words)"
      ]
    },
    {
      "cell_type": "code",
      "execution_count": 222,
      "metadata": {
        "colab": {
          "base_uri": "https://localhost:8080/"
        },
        "id": "2xk4p7D_1zmo",
        "outputId": "a9e7019a-93d9-4307-a4dd-fe1cabda7df7"
      },
      "outputs": [
        {
          "output_type": "stream",
          "name": "stdout",
          "text": [
            "['Taj', 'Mahal', 'is', 'one', 'of', 'the', 'beautiful', 'monuments', '.', 'It', 'is', 'one', 'of', 'the', 'wonders', 'of', 'the', 'world', '.', 'It', 'was', 'built', 'by', 'Shah', 'Jahan', 'in', '1631', 'in', 'memory', 'of', 'his', 'third', 'beloved', 'wife', 'Mumtaj', 'Mahal', '.']\n"
          ]
        }
      ],
      "source": [
        "# Loading english language model\n",
        "nlp = spacy.load(\"en_core_web_sm\")\n",
        "\n",
        "paragraph = \"\"\"Taj Mahal is one of the beautiful monuments. It is one of the wonders of the world. It was built by Shah Jahan in 1631 in memory of his third beloved wife Mumtaj Mahal.\"\"\"\n",
        "\n",
        "# Create nlp Object to handle linguistic annotations in a documents.\n",
        "my_doc = nlp(paragraph)\n",
        "\n",
        "# tokenize paragraph into words\n",
        "tokenized_words = []\n",
        "for token in my_doc:\n",
        "    tokenized_words.append(token.text)\n",
        "print(tokenized_words)"
      ]
    },
    {
      "cell_type": "code",
      "execution_count": 223,
      "metadata": {
        "colab": {
          "base_uri": "https://localhost:8080/"
        },
        "id": "a_L70u5y1zmo",
        "outputId": "46a004f2-a0c4-4c8e-bc0a-281c7df5d698"
      },
      "outputs": [
        {
          "output_type": "execute_result",
          "data": {
            "text/plain": [
              "[('of', 4), ('the', 3), ('.', 3), ('Mahal', 2), ('is', 2)]"
            ]
          },
          "metadata": {},
          "execution_count": 223
        }
      ],
      "source": [
        "# Import frequency distribution\n",
        "from nltk.probability import FreqDist\n",
        "\n",
        "# Find frequency distribution of paragraph\n",
        "fdist = FreqDist(tokenized_words)\n",
        "\n",
        "# Check top 5 common words\n",
        "fdist.most_common(5)"
      ]
    },
    {
      "cell_type": "code",
      "execution_count": 224,
      "metadata": {
        "colab": {
          "base_uri": "https://localhost:8080/",
          "height": 518
        },
        "id": "ZbB7o_911zmp",
        "outputId": "9df0e620-891d-47ae-dc5d-5ba79539cb0c"
      },
      "outputs": [
        {
          "output_type": "display_data",
          "data": {
            "text/plain": [
              "<Figure size 640x480 with 1 Axes>"
            ],
            "image/png": "[encoded data removed]"
          },
          "metadata": {}
        }
      ],
      "source": [
        "# Import matplotlib\n",
        "import matplotlib.pyplot as plt\n",
        "\n",
        "# Plot Frequency Distribution\n",
        "fdist.plot(20, cumulative=False)\n",
        "plt.show()"
      ]
    },
    {
      "cell_type": "markdown",
      "metadata": {
        "id": "CCPSXWQG1zmp"
      },
      "source": [
        "## Stopwords"
      ]
    },
    {
      "cell_type": "code",
      "execution_count": 225,
      "metadata": {
        "colab": {
          "base_uri": "https://localhost:8080/"
        },
        "id": "xnKZtTg8cESS",
        "outputId": "c637e35b-d8f9-47d2-f436-f3589a4c601e"
      },
      "outputs": [
        {
          "output_type": "stream",
          "name": "stdout",
          "text": [
            "{'it', 'same', \"it'll\", 'further', 'just', 'we', 'when', 'their', 'themselves', 'a', \"mustn't\", 'out', \"wouldn't\", \"we'll\", 'our', 'each', 'because', 'my', \"we've\", \"shouldn't\", 'being', 'how', 'me', 'weren', 'few', \"that'll\", 'y', 'own', 'on', 'where', \"we're\", \"you'll\", 'm', \"couldn't\", 'did', 't', 'been', \"hasn't\", 'at', 'isn', \"isn't\", 'him', 'he', 'an', 'through', 'or', \"i'd\", 'shouldn', 'was', 'in', 'nor', \"weren't\", \"it's\", \"she's\", 'these', 'that', 'himself', 'then', 'most', 'do', 'there', 'couldn', 'those', 'below', 'itself', 'mustn', 'has', 'her', 'of', \"wasn't\", \"he's\", 'having', 'mightn', \"mightn't\", 'your', \"didn't\", 'if', 'into', 'them', \"won't\", \"i'll\", 'have', 'does', 'than', 'this', 'aren', 'during', 'up', 'will', 'is', 'both', 'for', \"they've\", 'what', 'am', 'against', 'hasn', \"she'd\", 'as', 'who', 'you', 'yourself', 'which', 'very', \"we'd\", \"don't\", 'haven', 'needn', \"i'm\", 'shan', 'ourselves', 'she', 'll', 'from', 'so', 'any', 'o', 'with', 'down', 'not', 're', 'its', \"doesn't\", 'doesn', 'whom', 'should', 'can', \"needn't\", \"aren't\", \"they'd\", 'the', 'yours', \"it'd\", 'over', 'too', 'while', 've', \"haven't\", 'other', \"i've\", 'doing', 'under', 'above', 'between', 'off', \"he'd\", 'more', \"they're\", 'some', 'and', 'hers', \"you've\", 'only', 'again', 'by', 'until', \"hadn't\", 'all', 'his', 'before', 'once', 'are', 'here', 'to', 'after', \"he'll\", 'were', 'myself', \"you'd\", 'ain', \"she'll\", 'didn', 's', 'such', 'but', 'wasn', 'be', 'herself', 'yourselves', 'had', 'about', 'won', 'they', 'no', \"shan't\", \"you're\", 'ours', 'theirs', 'wouldn', 'hadn', 'don', 'now', 'd', 'i', \"should've\", \"they'll\", 'why', 'ma'}\n"
          ]
        }
      ],
      "source": [
        "# import the nltk stopwords\n",
        "from nltk.corpus import stopwords\n",
        "\n",
        "# Load english stopwords list\n",
        "stopwords_set=set(stopwords.words(\"english\"))\n",
        "\n",
        "print(stopwords_set)"
      ]
    },
    {
      "cell_type": "code",
      "execution_count": 226,
      "metadata": {
        "colab": {
          "base_uri": "https://localhost:8080/"
        },
        "id": "0GrCxLbs1zmp",
        "outputId": "ce75933c-3763-4fa0-c1b7-c1052ad3feff"
      },
      "outputs": [
        {
          "output_type": "stream",
          "name": "stdout",
          "text": [
            "Tokenized Word List: ['Taj', 'Mahal', 'is', 'one', 'of', 'the', 'beautiful', 'monuments', '.', 'It', 'is', 'one', 'of', 'the', 'wonders', 'of', 'the', 'world', '.', 'It', 'was', 'built', 'by', 'Shah', 'Jahan', 'in', '1631', 'in', 'memory', 'of', 'his', 'third', 'beloved', 'wife', 'Mumtaj', 'Mahal', '.']\n",
            "Filtered Word List: ['Taj', 'Mahal', 'one', 'beautiful', 'monuments', '.', 'It', 'one', 'wonders', 'world', '.', 'It', 'built', 'Shah', 'Jahan', '1631', 'memory', 'third', 'beloved', 'wife', 'Mumtaj', 'Mahal', '.']\n"
          ]
        }
      ],
      "source": [
        "# Removing stopwords from text\n",
        "filtered_word_list=[]\n",
        "for word in tokenized_words:\n",
        "    # filter stopwords\n",
        "    if word not in stopwords_set:\n",
        "        filtered_word_list.append(word)\n",
        "\n",
        "# print tokenized words\n",
        "print(\"Tokenized Word List:\", tokenized_words)\n",
        "\n",
        "# print filtered words\n",
        "print(\"Filtered Word List:\", filtered_word_list)"
      ]
    },
    {
      "cell_type": "code",
      "execution_count": 227,
      "metadata": {
        "colab": {
          "base_uri": "https://localhost:8080/"
        },
        "id": "9UXt8xVn1zmp",
        "outputId": "df03b73d-e291-4964-e516-8645467c6ddb"
      },
      "outputs": [
        {
          "output_type": "stream",
          "name": "stdout",
          "text": [
            "Filtered Word List: [Taj, Mahal, beautiful, monuments, ., wonders, world, ., built, Shah, Jahan, 1631, memory, beloved, wife, Mumtaj, Mahal, .]\n"
          ]
        }
      ],
      "source": [
        "# Loading english language model\n",
        "nlp = spacy.load(\"en_core_web_sm\")\n",
        "\n",
        "# text paragraph\n",
        "paragraph = \"\"\"Taj Mahal is one of the beautiful monuments. It is one of the wonders of the world. It was built by Shah Jahan in 1631 in memory of his third beloved wife Mumtaj Mahal.\"\"\"\n",
        "\n",
        "# Create nlp Object to handle linguistic annotations in a documents.\n",
        "my_doc = nlp(paragraph)\n",
        "\n",
        "# Removing stopwords from text\n",
        "filtered_token_list=[]\n",
        "for token in my_doc:\n",
        "    # filter stopwords\n",
        "    if token.is_stop==False:\n",
        "        filtered_token_list.append(token)\n",
        "\n",
        "print(\"Filtered Word List:\",filtered_token_list)"
      ]
    },
    {
      "cell_type": "markdown",
      "metadata": {
        "id": "f5Yn-XIQ1zmp"
      },
      "source": [
        "## Stemming and Lemmatization"
      ]
    },
    {
      "cell_type": "code",
      "execution_count": 228,
      "metadata": {
        "colab": {
          "base_uri": "https://localhost:8080/"
        },
        "id": "veOsxXzU1zmq",
        "outputId": "e7ebd810-d87d-403f-ade1-bf67c56260c6"
      },
      "outputs": [
        {
          "output_type": "stream",
          "name": "stdout",
          "text": [
            "Lemmatized Sample Word: cry\n",
            "Stemmed Sample Word: cri\n"
          ]
        }
      ],
      "source": [
        "# Import Lemmatizer\n",
        "from nltk.stem.wordnet import WordNetLemmatizer\n",
        "\n",
        "# Create lemmatizer object\n",
        "lemmatizer = WordNetLemmatizer()\n",
        "\n",
        "# Import Porter Stemmer\n",
        "from nltk.stem.porter import PorterStemmer\n",
        "\n",
        "# Create stemmer object\n",
        "stemmer = PorterStemmer()\n",
        "\n",
        "# take a sample word\n",
        "sample_word = \"crying\"\n",
        "\n",
        "print(\"Lemmatized Sample Word:\", lemmatizer.lemmatize(sample_word,\"v\"))\n",
        "\n",
        "print(\"Stemmed Sample Word:\", stemmer.stem(sample_word))"
      ]
    },
    {
      "cell_type": "code",
      "execution_count": 229,
      "metadata": {
        "colab": {
          "base_uri": "https://localhost:8080/"
        },
        "id": "Id0PDtjZ1zmq",
        "outputId": "4d6255b3-37c3-4c79-ca5d-f57b5c5d9e88"
      },
      "outputs": [
        {
          "output_type": "stream",
          "name": "stdout",
          "text": [
            "Original Word:  cry\n",
            "Lemmatized Word:  cry\n",
            "Original Word:  cries\n",
            "Lemmatized Word:  cry\n",
            "Original Word:  crying\n",
            "Lemmatized Word:  cry\n"
          ]
        }
      ],
      "source": [
        "# Loading english language model\n",
        "nlp = spacy.load(\"en_core_web_sm\")\n",
        "\n",
        "# Create nlp Object to handle linguistic annotations in documents.\n",
        "words = nlp(\"cry cries crying\")\n",
        "\n",
        "# Find lemmatized word\n",
        "for w in words:\n",
        "    print('Original Word: ', w.text)\n",
        "    print('Lemmatized Word: ',w.lemma_)"
      ]
    },
    {
      "cell_type": "markdown",
      "metadata": {
        "id": "QxenE1_A1zmq"
      },
      "source": [
        "## PoS Tagging"
      ]
    },
    {
      "cell_type": "code",
      "execution_count": 230,
      "metadata": {
        "colab": {
          "base_uri": "https://localhost:8080/"
        },
        "id": "rvCoT9mw1zmq",
        "outputId": "33416d57-6449-465f-b1bf-a6a4bef05047"
      },
      "outputs": [
        {
          "output_type": "stream",
          "name": "stdout",
          "text": [
            "[('Taj', 'NNP'), ('Mahal', 'NNP'), ('is', 'VBZ'), ('one', 'CD'), ('of', 'IN'), ('the', 'DT'), ('beautiful', 'JJ'), ('monument', 'NN'), ('.', '.')]\n"
          ]
        }
      ],
      "source": [
        "# import Word Tokenizer and Pos Tagger\n",
        "from nltk.tokenize import word_tokenize\n",
        "from nltk import pos_tag\n",
        "\n",
        "# Sample sentence\n",
        "sentence = \"Taj Mahal is one of the beautiful monument.\"\n",
        "\n",
        "# Tokenize the sentence\n",
        "sent_tokens = word_tokenize(sentence)\n",
        "\n",
        "# Create PoS tags\n",
        "sent_pos = pos_tag(sent_tokens)\n",
        "\n",
        "# Print tokens with PoS\n",
        "print(sent_pos)"
      ]
    },
    {
      "cell_type": "code",
      "execution_count": 231,
      "metadata": {
        "colab": {
          "base_uri": "https://localhost:8080/"
        },
        "id": "DW9X8Iuv1zmq",
        "outputId": "189431d3-a565-461c-ace3-d9f4e1ba4b4e"
      },
      "outputs": [
        {
          "output_type": "stream",
          "name": "stdout",
          "text": [
            "Taj PROPN\n",
            "Mahal PROPN\n",
            "is AUX\n",
            "one NUM\n",
            "of ADP\n",
            "the DET\n",
            "beautiful ADJ\n",
            "monument NOUN\n",
            ". PUNCT\n"
          ]
        }
      ],
      "source": [
        "# Loading small english language model\n",
        "nlp = spacy.load(\"en_core_web_sm\")\n",
        "\n",
        "# Create nlp Object to handle linguistic annotations in a documents.\n",
        "sentence = nlp(u\"Taj Mahal is one of the beautiful monument.\")\n",
        "\n",
        "for token in sentence:\n",
        "    print(token.text, token.pos_)"
      ]
    },
    {
      "cell_type": "markdown",
      "metadata": {
        "id": "5HvnsV5k1zmq"
      },
      "source": [
        "## Entity Recognition"
      ]
    },
    {
      "cell_type": "code",
      "execution_count": 232,
      "metadata": {
        "colab": {
          "base_uri": "https://localhost:8080/"
        },
        "id": "FjmhRWq-1zmq",
        "outputId": "2f0a9b34-b504-4a54-8789-6081342a8664"
      },
      "outputs": [
        {
          "output_type": "stream",
          "name": "stdout",
          "text": [
            "[('Taj Mahal', 'PERSON'), ('Shah Jahan', 'ORG'), ('1631', 'DATE'), ('third', 'ORDINAL'), ('Mumtaj Mahal', 'PERSON')]\n"
          ]
        }
      ],
      "source": [
        "# Load English model for tokenizer, tagger, parser, and NER\n",
        "nlp = spacy.load('en_core_web_sm')\n",
        "\n",
        "# Sample paragraph\n",
        "paragraph = \"\"\"Taj Mahal is one of the beautiful monuments. It is one of the wonders of the world. It was built by Shah Jahan in 1631 in memory of his third beloved wife Mumtaj Mahal.\"\"\"\n",
        "\n",
        "# Create nlp Object to handle linguistic annotations in documents.\n",
        "docs=nlp(paragraph)\n",
        "\n",
        "entities=[(i.text, i.label_) for i in docs.ents]\n",
        "print(entities)"
      ]
    },
    {
      "cell_type": "code",
      "execution_count": 233,
      "metadata": {
        "colab": {
          "base_uri": "https://localhost:8080/",
          "height": 52
        },
        "id": "0CR6cxSp1QEV",
        "outputId": "80b61a0c-9568-4451-de79-4c5855105255"
      },
      "outputs": [
        {
          "output_type": "display_data",
          "data": {
            "text/plain": [
              "<IPython.core.display.HTML object>"
            ],
            "text/html": [
              "<span class=\"tex2jax_ignore\"><div class=\"entities\" style=\"line-height: 2.5; direction: ltr\">\n",
              "<mark class=\"entity\" style=\"background: #aa9cfc; padding: 0.45em 0.6em; margin: 0 0.25em; line-height: 1; border-radius: 0.35em;\">\n",
              "    Taj Mahal\n",
              "    <span style=\"font-size: 0.8em; font-weight: bold; line-height: 1; border-radius: 0.35em; vertical-align: middle; margin-left: 0.5rem\">PERSON</span>\n",
              "</mark>\n",
              " is one of the beautiful monuments. It is one of the wonders of the world. It was built by \n",
              "<mark class=\"entity\" style=\"background: #7aecec; padding: 0.45em 0.6em; margin: 0 0.25em; line-height: 1; border-radius: 0.35em;\">\n",
              "    Shah Jahan\n",
              "    <span style=\"font-size: 0.8em; font-weight: bold; line-height: 1; border-radius: 0.35em; vertical-align: middle; margin-left: 0.5rem\">ORG</span>\n",
              "</mark>\n",
              " in \n",
              "<mark class=\"entity\" style=\"background: #bfe1d9; padding: 0.45em 0.6em; margin: 0 0.25em; line-height: 1; border-radius: 0.35em;\">\n",
              "    1631\n",
              "    <span style=\"font-size: 0.8em; font-weight: bold; line-height: 1; border-radius: 0.35em; vertical-align: middle; margin-left: 0.5rem\">DATE</span>\n",
              "</mark>\n",
              " in memory of his \n",
              "<mark class=\"entity\" style=\"background: #e4e7d2; padding: 0.45em 0.6em; margin: 0 0.25em; line-height: 1; border-radius: 0.35em;\">\n",
              "    third\n",
              "    <span style=\"font-size: 0.8em; font-weight: bold; line-height: 1; border-radius: 0.35em; vertical-align: middle; margin-left: 0.5rem\">ORDINAL</span>\n",
              "</mark>\n",
              " beloved wife \n",
              "<mark class=\"entity\" style=\"background: #aa9cfc; padding: 0.45em 0.6em; margin: 0 0.25em; line-height: 1; border-radius: 0.35em;\">\n",
              "    Mumtaj Mahal\n",
              "    <span style=\"font-size: 0.8em; font-weight: bold; line-height: 1; border-radius: 0.35em; vertical-align: middle; margin-left: 0.5rem\">PERSON</span>\n",
              "</mark>\n",
              ".</div></span>"
            ]
          },
          "metadata": {}
        }
      ],
      "source": [
        "# Import display for visualizing the Entities\n",
        "from spacy import displacy\n",
        " # Visualize the entities using render function\n",
        "displacy.render(docs, style = \"ent\",jupyter = True)"
      ]
    },
    {
      "cell_type": "markdown",
      "metadata": {
        "id": "q2H49yd71zmq"
      },
      "source": [
        "## Dependency Parsing"
      ]
    },
    {
      "cell_type": "code",
      "execution_count": 234,
      "metadata": {
        "colab": {
          "base_uri": "https://localhost:8080/",
          "height": 383
        },
        "id": "83iL1YY21zmr",
        "outputId": "e3c9b6af-aa5f-443b-fd71-111dc5fd50e1"
      },
      "outputs": [
        {
          "output_type": "display_data",
          "data": {
            "text/plain": [
              "<IPython.core.display.HTML object>"
            ],
            "text/html": [
              "<span class=\"tex2jax_ignore\"><svg xmlns=\"http://www.w3.org/2000/svg\" xmlns:xlink=\"http://www.w3.org/1999/xlink\" xml:lang=\"en\" id=\"5803558db7b7490796296a5d492e3b1f-0\" class=\"displacy\" width=\"1250\" height=\"362.0\" direction=\"ltr\" style=\"max-width: none; height: 362.0px; color: #000000; background: #ffffff; font-family: Arial; direction: ltr\">\n",
              "<text class=\"displacy-token\" fill=\"currentColor\" text-anchor=\"middle\" y=\"272.0\">\n",
              "    <tspan class=\"displacy-word\" fill=\"currentColor\" x=\"50\">Taj</tspan>\n",
              "    <tspan class=\"displacy-tag\" dy=\"2em\" fill=\"currentColor\" x=\"50\">PROPN</tspan>\n",
              "</text>\n",
              "\n",
              "<text class=\"displacy-token\" fill=\"currentColor\" text-anchor=\"middle\" y=\"272.0\">\n",
              "    <tspan class=\"displacy-word\" fill=\"currentColor\" x=\"200\">Mahal</tspan>\n",
              "    <tspan class=\"displacy-tag\" dy=\"2em\" fill=\"currentColor\" x=\"200\">PROPN</tspan>\n",
              "</text>\n",
              "\n",
              "<text class=\"displacy-token\" fill=\"currentColor\" text-anchor=\"middle\" y=\"272.0\">\n",
              "    <tspan class=\"displacy-word\" fill=\"currentColor\" x=\"350\">is</tspan>\n",
              "    <tspan class=\"displacy-tag\" dy=\"2em\" fill=\"currentColor\" x=\"350\">AUX</tspan>\n",
              "</text>\n",
              "\n",
              "<text class=\"displacy-token\" fill=\"currentColor\" text-anchor=\"middle\" y=\"272.0\">\n",
              "    <tspan class=\"displacy-word\" fill=\"currentColor\" x=\"500\">one</tspan>\n",
              "    <tspan class=\"displacy-tag\" dy=\"2em\" fill=\"currentColor\" x=\"500\">NUM</tspan>\n",
              "</text>\n",
              "\n",
              "<text class=\"displacy-token\" fill=\"currentColor\" text-anchor=\"middle\" y=\"272.0\">\n",
              "    <tspan class=\"displacy-word\" fill=\"currentColor\" x=\"650\">of</tspan>\n",
              "    <tspan class=\"displacy-tag\" dy=\"2em\" fill=\"currentColor\" x=\"650\">ADP</tspan>\n",
              "</text>\n",
              "\n",
              "<text class=\"displacy-token\" fill=\"currentColor\" text-anchor=\"middle\" y=\"272.0\">\n",
              "    <tspan class=\"displacy-word\" fill=\"currentColor\" x=\"800\">the</tspan>\n",
              "    <tspan class=\"displacy-tag\" dy=\"2em\" fill=\"currentColor\" x=\"800\">DET</tspan>\n",
              "</text>\n",
              "\n",
              "<text class=\"displacy-token\" fill=\"currentColor\" text-anchor=\"middle\" y=\"272.0\">\n",
              "    <tspan class=\"displacy-word\" fill=\"currentColor\" x=\"950\">beautiful</tspan>\n",
              "    <tspan class=\"displacy-tag\" dy=\"2em\" fill=\"currentColor\" x=\"950\">ADJ</tspan>\n",
              "</text>\n",
              "\n",
              "<text class=\"displacy-token\" fill=\"currentColor\" text-anchor=\"middle\" y=\"272.0\">\n",
              "    <tspan class=\"displacy-word\" fill=\"currentColor\" x=\"1100\">monument.</tspan>\n",
              "    <tspan class=\"displacy-tag\" dy=\"2em\" fill=\"currentColor\" x=\"1100\">NOUN</tspan>\n",
              "</text>\n",
              "\n",
              "<g class=\"displacy-arrow\">\n",
              "    <path class=\"displacy-arc\" id=\"arrow-5803558db7b7490796296a5d492e3b1f-0-0\" stroke-width=\"2px\" d=\"M70,227.0 C70,152.0 190.0,152.0 190.0,227.0\" fill=\"none\" stroke=\"currentColor\"/>\n",
              "    <text dy=\"1.25em\" style=\"font-size: 0.8em; letter-spacing: 1px\">\n",
              "        <textPath xlink:href=\"#arrow-5803558db7b7490796296a5d492e3b1f-0-0\" class=\"displacy-label\" startOffset=\"50%\" side=\"left\" fill=\"currentColor\" text-anchor=\"middle\">compound</textPath>\n",
              "    </text>\n",
              "    <path class=\"displacy-arrowhead\" d=\"M70,229.0 L62,217.0 78,217.0\" fill=\"currentColor\"/>\n",
              "</g>\n",
              "\n",
              "<g class=\"displacy-arrow\">\n",
              "    <path class=\"displacy-arc\" id=\"arrow-5803558db7b7490796296a5d492e3b1f-0-1\" stroke-width=\"2px\" d=\"M220,227.0 C220,152.0 340.0,152.0 340.0,227.0\" fill=\"none\" stroke=\"currentColor\"/>\n",
              "    <text dy=\"1.25em\" style=\"font-size: 0.8em; letter-spacing: 1px\">\n",
              "        <textPath xlink:href=\"#arrow-5803558db7b7490796296a5d492e3b1f-0-1\" class=\"displacy-label\" startOffset=\"50%\" side=\"left\" fill=\"currentColor\" text-anchor=\"middle\">nsubj</textPath>\n",
              "    </text>\n",
              "    <path class=\"displacy-arrowhead\" d=\"M220,229.0 L212,217.0 228,217.0\" fill=\"currentColor\"/>\n",
              "</g>\n",
              "\n",
              "<g class=\"displacy-arrow\">\n",
              "    <path class=\"displacy-arc\" id=\"arrow-5803558db7b7490796296a5d492e3b1f-0-2\" stroke-width=\"2px\" d=\"M370,227.0 C370,152.0 490.0,152.0 490.0,227.0\" fill=\"none\" stroke=\"currentColor\"/>\n",
              "    <text dy=\"1.25em\" style=\"font-size: 0.8em; letter-spacing: 1px\">\n",
              "        <textPath xlink:href=\"#arrow-5803558db7b7490796296a5d492e3b1f-0-2\" class=\"displacy-label\" startOffset=\"50%\" side=\"left\" fill=\"currentColor\" text-anchor=\"middle\">attr</textPath>\n",
              "    </text>\n",
              "    <path class=\"displacy-arrowhead\" d=\"M490.0,229.0 L498.0,217.0 482.0,217.0\" fill=\"currentColor\"/>\n",
              "</g>\n",
              "\n",
              "<g class=\"displacy-arrow\">\n",
              "    <path class=\"displacy-arc\" id=\"arrow-5803558db7b7490796296a5d492e3b1f-0-3\" stroke-width=\"2px\" d=\"M520,227.0 C520,152.0 640.0,152.0 640.0,227.0\" fill=\"none\" stroke=\"currentColor\"/>\n",
              "    <text dy=\"1.25em\" style=\"font-size: 0.8em; letter-spacing: 1px\">\n",
              "        <textPath xlink:href=\"#arrow-5803558db7b7490796296a5d492e3b1f-0-3\" class=\"displacy-label\" startOffset=\"50%\" side=\"left\" fill=\"currentColor\" text-anchor=\"middle\">prep</textPath>\n",
              "    </text>\n",
              "    <path class=\"displacy-arrowhead\" d=\"M640.0,229.0 L648.0,217.0 632.0,217.0\" fill=\"currentColor\"/>\n",
              "</g>\n",
              "\n",
              "<g class=\"displacy-arrow\">\n",
              "    <path class=\"displacy-arc\" id=\"arrow-5803558db7b7490796296a5d492e3b1f-0-4\" stroke-width=\"2px\" d=\"M820,227.0 C820,77.0 1095.0,77.0 1095.0,227.0\" fill=\"none\" stroke=\"currentColor\"/>\n",
              "    <text dy=\"1.25em\" style=\"font-size: 0.8em; letter-spacing: 1px\">\n",
              "        <textPath xlink:href=\"#arrow-5803558db7b7490796296a5d492e3b1f-0-4\" class=\"displacy-label\" startOffset=\"50%\" side=\"left\" fill=\"currentColor\" text-anchor=\"middle\">det</textPath>\n",
              "    </text>\n",
              "    <path class=\"displacy-arrowhead\" d=\"M820,229.0 L812,217.0 828,217.0\" fill=\"currentColor\"/>\n",
              "</g>\n",
              "\n",
              "<g class=\"displacy-arrow\">\n",
              "    <path class=\"displacy-arc\" id=\"arrow-5803558db7b7490796296a5d492e3b1f-0-5\" stroke-width=\"2px\" d=\"M970,227.0 C970,152.0 1090.0,152.0 1090.0,227.0\" fill=\"none\" stroke=\"currentColor\"/>\n",
              "    <text dy=\"1.25em\" style=\"font-size: 0.8em; letter-spacing: 1px\">\n",
              "        <textPath xlink:href=\"#arrow-5803558db7b7490796296a5d492e3b1f-0-5\" class=\"displacy-label\" startOffset=\"50%\" side=\"left\" fill=\"currentColor\" text-anchor=\"middle\">amod</textPath>\n",
              "    </text>\n",
              "    <path class=\"displacy-arrowhead\" d=\"M970,229.0 L962,217.0 978,217.0\" fill=\"currentColor\"/>\n",
              "</g>\n",
              "\n",
              "<g class=\"displacy-arrow\">\n",
              "    <path class=\"displacy-arc\" id=\"arrow-5803558db7b7490796296a5d492e3b1f-0-6\" stroke-width=\"2px\" d=\"M670,227.0 C670,2.0 1100.0,2.0 1100.0,227.0\" fill=\"none\" stroke=\"currentColor\"/>\n",
              "    <text dy=\"1.25em\" style=\"font-size: 0.8em; letter-spacing: 1px\">\n",
              "        <textPath xlink:href=\"#arrow-5803558db7b7490796296a5d492e3b1f-0-6\" class=\"displacy-label\" startOffset=\"50%\" side=\"left\" fill=\"currentColor\" text-anchor=\"middle\">pobj</textPath>\n",
              "    </text>\n",
              "    <path class=\"displacy-arrowhead\" d=\"M1100.0,229.0 L1108.0,217.0 1092.0,217.0\" fill=\"currentColor\"/>\n",
              "</g>\n",
              "</svg></span>"
            ]
          },
          "metadata": {}
        }
      ],
      "source": [
        "# Load English model for tokenizer, tagger, parser, and NER\n",
        "nlp = spacy.load('en_core_web_sm')\n",
        "\n",
        "# Sample sentence\n",
        "sentence=\"Taj Mahal is one of the beautiful monument.\"\n",
        "\n",
        "# Create nlp Object to handle linguistic annotations in a documents.\n",
        "docs=nlp(sentence)\n",
        "\n",
        "# Visualize the  using render function\n",
        "displacy.render(docs, style=\"dep\", jupyter= True, options={'distance': 150})"
      ]
    },
    {
      "cell_type": "markdown",
      "metadata": {
        "id": "Xy-xuSZH1zmr"
      },
      "source": [
        "## WordCloud"
      ]
    },
    {
      "cell_type": "code",
      "execution_count": 235,
      "metadata": {
        "colab": {
          "base_uri": "https://localhost:8080/",
          "height": 499
        },
        "id": "7iBLmtMA1zmr",
        "outputId": "6afa9d75-cb9d-4f52-cd57-b76dc8751af6"
      },
      "outputs": [
        {
          "output_type": "display_data",
          "data": {
            "text/plain": [
              "<Figure size 800x600 with 1 Axes>"
            ],
            "image/png": "[encoded data removed]"
          },
          "metadata": {}
        }
      ],
      "source": [
        "# importing all necessary modules\n",
        "from wordcloud import WordCloud\n",
        "from wordcloud import STOPWORDS\n",
        "import matplotlib.pyplot as plt\n",
        "\n",
        "stopword_list = set(STOPWORDS)\n",
        "\n",
        "paragraph=\"\"\"Taj Mahal is one of the beautiful monuments. It is one of the wonders of the world. It was built by Shah Jahan in 1631 in memory of his third beloved wife Mumtaj Mahal.\"\"\"\n",
        "\n",
        "word_cloud = WordCloud(width = 550, height = 550,\n",
        "                       background_color ='white',\n",
        "                       stopwords = stopword_list,\n",
        "                       min_font_size = 10).generate(paragraph)\n",
        "\n",
        "# Visualize the WordCloud Plot\n",
        "\n",
        "# Set wordcloud figure size\n",
        "plt.figure(figsize = (8, 6))\n",
        "# Show image\n",
        "plt.imshow(word_cloud)\n",
        "# Remove Axis\n",
        "plt.axis(\"off\")\n",
        "# show plot\n",
        "plt.show()"
      ]
    },
    {
      "cell_type": "markdown",
      "metadata": {
        "id": "CVv92oPl1zmr"
      },
      "source": [
        "## Sentiment Analysis using Text Classification\n",
        "### Classification using Bag of Words (or TF)\n",
        "#### Load the Dataset"
      ]
    },
    {
      "cell_type": "code",
      "execution_count": 236,
      "metadata": {
        "colab": {
          "base_uri": "https://localhost:8080/",
          "height": 204
        },
        "id": "XGG2NDL_1zmr",
        "outputId": "32709811-0651-4106-b2eb-0944bdbe96d4"
      },
      "outputs": [
        {
          "output_type": "execute_result",
          "data": {
            "text/plain": [
              "      rating       date   variation  \\\n",
              "3145       5  30-Jul-18  Black  Dot   \n",
              "3146       5  30-Jul-18  Black  Dot   \n",
              "3147       5  30-Jul-18  Black  Dot   \n",
              "3148       5  30-Jul-18  White  Dot   \n",
              "3149       4  29-Jul-18  Black  Dot   \n",
              "\n",
              "                                       verified_reviews  feedback  \n",
              "3145  Perfect for kids, adults and everyone in betwe...         1  \n",
              "3146  Listening to music, searching locations, check...         1  \n",
              "3147  I do love these things, i have them running my...         1  \n",
              "3148  Only complaint I have is that the sound qualit...         1  \n",
              "3149                                               Good         1  "
            ],
            "text/html": [
              "\n",
              "  <div id=\"df-f434ffca-f557-44fd-be0c-449f7f878e74\" class=\"colab-df-container\">\n",
              "    <div>\n",
              "<style scoped>\n",
              "    .dataframe tbody tr th:only-of-type {\n",
              "        vertical-align: middle;\n",
              "    }\n",
              "\n",
              "    .dataframe tbody tr th {\n",
              "        vertical-align: top;\n",
              "    }\n",
              "\n",
              "    .dataframe thead th {\n",
              "        text-align: right;\n",
              "    }\n",
              "</style>\n",
              "<table border=\"1\" class=\"dataframe\">\n",
              "  <thead>\n",
              "    <tr style=\"text-align: right;\">\n",
              "      <th></th>\n",
              "      <th>rating</th>\n",
              "      <th>date</th>\n",
              "      <th>variation</th>\n",
              "      <th>verified_reviews</th>\n",
              "      <th>feedback</th>\n",
              "    </tr>\n",
              "  </thead>\n",
              "  <tbody>\n",
              "    <tr>\n",
              "      <th>3145</th>\n",
              "      <td>5</td>\n",
              "      <td>30-Jul-18</td>\n",
              "      <td>Black  Dot</td>\n",
              "      <td>Perfect for kids, adults and everyone in betwe...</td>\n",
              "      <td>1</td>\n",
              "    </tr>\n",
              "    <tr>\n",
              "      <th>3146</th>\n",
              "      <td>5</td>\n",
              "      <td>30-Jul-18</td>\n",
              "      <td>Black  Dot</td>\n",
              "      <td>Listening to music, searching locations, check...</td>\n",
              "      <td>1</td>\n",
              "    </tr>\n",
              "    <tr>\n",
              "      <th>3147</th>\n",
              "      <td>5</td>\n",
              "      <td>30-Jul-18</td>\n",
              "      <td>Black  Dot</td>\n",
              "      <td>I do love these things, i have them running my...</td>\n",
              "      <td>1</td>\n",
              "    </tr>\n",
              "    <tr>\n",
              "      <th>3148</th>\n",
              "      <td>5</td>\n",
              "      <td>30-Jul-18</td>\n",
              "      <td>White  Dot</td>\n",
              "      <td>Only complaint I have is that the sound qualit...</td>\n",
              "      <td>1</td>\n",
              "    </tr>\n",
              "    <tr>\n",
              "      <th>3149</th>\n",
              "      <td>4</td>\n",
              "      <td>29-Jul-18</td>\n",
              "      <td>Black  Dot</td>\n",
              "      <td>Good</td>\n",
              "      <td>1</td>\n",
              "    </tr>\n",
              "  </tbody>\n",
              "</table>\n",
              "</div>\n",
              "    <div class=\"colab-df-buttons\">\n",
              "\n",
              "  <div class=\"colab-df-container\">\n",
              "    <button class=\"colab-df-convert\" onclick=\"convertToInteractive('df-f434ffca-f557-44fd-be0c-449f7f878e74')\"\n",
              "            title=\"Convert this dataframe to an interactive table.\"\n",
              "            style=\"display:none;\">\n",
              "\n",
              "  <svg xmlns=\"http://www.w3.org/2000/svg\" height=\"24px\" viewBox=\"0 -960 960 960\">\n",
              "    <path d=\"M120-120v-720h720v720H120Zm60-500h600v-160H180v160Zm220 220h160v-160H400v160Zm0 220h160v-160H400v160ZM180-400h160v-160H180v160Zm440 0h160v-160H620v160ZM180-180h160v-160H180v160Zm440 0h160v-160H620v160Z\"/>\n",
              "  </svg>\n",
              "    </button>\n",
              "\n",
              "  <style>\n",
              "    .colab-df-container {\n",
              "      display:flex;\n",
              "      gap: 12px;\n",
              "    }\n",
              "\n",
              "    .colab-df-convert {\n",
              "      background-color: #E8F0FE;\n",
              "      border: none;\n",
              "      border-radius: 50%;\n",
              "      cursor: pointer;\n",
              "      display: none;\n",
              "      fill: #1967D2;\n",
              "      height: 32px;\n",
              "      padding: 0 0 0 0;\n",
              "      width: 32px;\n",
              "    }\n",
              "\n",
              "    .colab-df-convert:hover {\n",
              "      background-color: #E2EBFA;\n",
              "      box-shadow: 0px 1px 2px rgba(60, 64, 67, 0.3), 0px 1px 3px 1px rgba(60, 64, 67, 0.15);\n",
              "      fill: #174EA6;\n",
              "    }\n",
              "\n",
              "    .colab-df-buttons div {\n",
              "      margin-bottom: 4px;\n",
              "    }\n",
              "\n",
              "    [theme=dark] .colab-df-convert {\n",
              "      background-color: #3B4455;\n",
              "      fill: #D2E3FC;\n",
              "    }\n",
              "\n",
              "    [theme=dark] .colab-df-convert:hover {\n",
              "      background-color: #434B5C;\n",
              "      box-shadow: 0px 1px 3px 1px rgba(0, 0, 0, 0.15);\n",
              "      filter: drop-shadow(0px 1px 2px rgba(0, 0, 0, 0.3));\n",
              "      fill: #FFFFFF;\n",
              "    }\n",
              "  </style>\n",
              "\n",
              "    <script>\n",
              "      const buttonEl =\n",
              "        document.querySelector('#df-f434ffca-f557-44fd-be0c-449f7f878e74 button.colab-df-convert');\n",
              "      buttonEl.style.display =\n",
              "        google.colab.kernel.accessAllowed ? 'block' : 'none';\n",
              "\n",
              "      async function convertToInteractive(key) {\n",
              "        const element = document.querySelector('#df-f434ffca-f557-44fd-be0c-449f7f878e74');\n",
              "        const dataTable =\n",
              "          await google.colab.kernel.invokeFunction('convertToInteractive',\n",
              "                                                    [key], {});\n",
              "        if (!dataTable) return;\n",
              "\n",
              "        const docLinkHtml = 'Like what you see? Visit the ' +\n",
              "          '<a target=\"_blank\" href=https://colab.research.google.com/notebooks/data_table.ipynb>data table notebook</a>'\n",
              "          + ' to learn more about interactive tables.';\n",
              "        element.innerHTML = '';\n",
              "        dataTable['output_type'] = 'display_data';\n",
              "        await google.colab.output.renderOutput(dataTable, element);\n",
              "        const docLink = document.createElement('div');\n",
              "        docLink.innerHTML = docLinkHtml;\n",
              "        element.appendChild(docLink);\n",
              "      }\n",
              "    </script>\n",
              "  </div>\n",
              "\n",
              "\n",
              "<div id=\"df-b9af1802-d573-49a8-a18b-a56a84181e20\">\n",
              "  <button class=\"colab-df-quickchart\" onclick=\"quickchart('df-b9af1802-d573-49a8-a18b-a56a84181e20')\"\n",
              "            title=\"Suggest charts\"\n",
              "            style=\"display:none;\">\n",
              "\n",
              "<svg xmlns=\"http://www.w3.org/2000/svg\" height=\"24px\"viewBox=\"0 0 24 24\"\n",
              "     width=\"24px\">\n",
              "    <g>\n",
              "        <path d=\"M19 3H5c-1.1 0-2 .9-2 2v14c0 1.1.9 2 2 2h14c1.1 0 2-.9 2-2V5c0-1.1-.9-2-2-2zM9 17H7v-7h2v7zm4 0h-2V7h2v10zm4 0h-2v-4h2v4z\"/>\n",
              "    </g>\n",
              "</svg>\n",
              "  </button>\n",
              "\n",
              "<style>\n",
              "  .colab-df-quickchart {\n",
              "      --bg-color: #E8F0FE;\n",
              "      --fill-color: #1967D2;\n",
              "      --hover-bg-color: #E2EBFA;\n",
              "      --hover-fill-color: #174EA6;\n",
              "      --disabled-fill-color: #AAA;\n",
              "      --disabled-bg-color: #DDD;\n",
              "  }\n",
              "\n",
              "  [theme=dark] .colab-df-quickchart {\n",
              "      --bg-color: #3B4455;\n",
              "      --fill-color: #D2E3FC;\n",
              "      --hover-bg-color: #434B5C;\n",
              "      --hover-fill-color: #FFFFFF;\n",
              "      --disabled-bg-color: #3B4455;\n",
              "      --disabled-fill-color: #666;\n",
              "  }\n",
              "\n",
              "  .colab-df-quickchart {\n",
              "    background-color: var(--bg-color);\n",
              "    border: none;\n",
              "    border-radius: 50%;\n",
              "    cursor: pointer;\n",
              "    display: none;\n",
              "    fill: var(--fill-color);\n",
              "    height: 32px;\n",
              "    padding: 0;\n",
              "    width: 32px;\n",
              "  }\n",
              "\n",
              "  .colab-df-quickchart:hover {\n",
              "    background-color: var(--hover-bg-color);\n",
              "    box-shadow: 0 1px 2px rgba(60, 64, 67, 0.3), 0 1px 3px 1px rgba(60, 64, 67, 0.15);\n",
              "    fill: var(--button-hover-fill-color);\n",
              "  }\n",
              "\n",
              "  .colab-df-quickchart-complete:disabled,\n",
              "  .colab-df-quickchart-complete:disabled:hover {\n",
              "    background-color: var(--disabled-bg-color);\n",
              "    fill: var(--disabled-fill-color);\n",
              "    box-shadow: none;\n",
              "  }\n",
              "\n",
              "  .colab-df-spinner {\n",
              "    border: 2px solid var(--fill-color);\n",
              "    border-color: transparent;\n",
              "    border-bottom-color: var(--fill-color);\n",
              "    animation:\n",
              "      spin 1s steps(1) infinite;\n",
              "  }\n",
              "\n",
              "  @keyframes spin {\n",
              "    0% {\n",
              "      border-color: transparent;\n",
              "      border-bottom-color: var(--fill-color);\n",
              "      border-left-color: var(--fill-color);\n",
              "    }\n",
              "    20% {\n",
              "      border-color: transparent;\n",
              "      border-left-color: var(--fill-color);\n",
              "      border-top-color: var(--fill-color);\n",
              "    }\n",
              "    30% {\n",
              "      border-color: transparent;\n",
              "      border-left-color: var(--fill-color);\n",
              "      border-top-color: var(--fill-color);\n",
              "      border-right-color: var(--fill-color);\n",
              "    }\n",
              "    40% {\n",
              "      border-color: transparent;\n",
              "      border-right-color: var(--fill-color);\n",
              "      border-top-color: var(--fill-color);\n",
              "    }\n",
              "    60% {\n",
              "      border-color: transparent;\n",
              "      border-right-color: var(--fill-color);\n",
              "    }\n",
              "    80% {\n",
              "      border-color: transparent;\n",
              "      border-right-color: var(--fill-color);\n",
              "      border-bottom-color: var(--fill-color);\n",
              "    }\n",
              "    90% {\n",
              "      border-color: transparent;\n",
              "      border-bottom-color: var(--fill-color);\n",
              "    }\n",
              "  }\n",
              "</style>\n",
              "\n",
              "  <script>\n",
              "    async function quickchart(key) {\n",
              "      const quickchartButtonEl =\n",
              "        document.querySelector('#' + key + ' button');\n",
              "      quickchartButtonEl.disabled = true;  // To prevent multiple clicks.\n",
              "      quickchartButtonEl.classList.add('colab-df-spinner');\n",
              "      try {\n",
              "        const charts = await google.colab.kernel.invokeFunction(\n",
              "            'suggestCharts', [key], {});\n",
              "      } catch (error) {\n",
              "        console.error('Error during call to suggestCharts:', error);\n",
              "      }\n",
              "      quickchartButtonEl.classList.remove('colab-df-spinner');\n",
              "      quickchartButtonEl.classList.add('colab-df-quickchart-complete');\n",
              "    }\n",
              "    (() => {\n",
              "      let quickchartButtonEl =\n",
              "        document.querySelector('#df-b9af1802-d573-49a8-a18b-a56a84181e20 button');\n",
              "      quickchartButtonEl.style.display =\n",
              "        google.colab.kernel.accessAllowed ? 'block' : 'none';\n",
              "    })();\n",
              "  </script>\n",
              "</div>\n",
              "\n",
              "    </div>\n",
              "  </div>\n"
            ],
            "application/vnd.google.colaboratory.intrinsic+json": {
              "type": "dataframe",
              "repr_error": "0"
            }
          },
          "metadata": {},
          "execution_count": 236
        }
      ],
      "source": [
        "# Import libraries\n",
        "import pandas as pd\n",
        "\n",
        "# read the dataset\n",
        "copus_url = 'https://raw.githubusercontent.com/sharmaroshan/Amazon-Alexa-Reviews/master/amazon_alexa.tsv'\n",
        "df=pd.read_csv(copus_url, sep='\\t')\n",
        "\n",
        "# Show top 5-records\n",
        "df.tail()"
      ]
    },
    {
      "cell_type": "markdown",
      "metadata": {
        "id": "0NSOzuOF1zmr"
      },
      "source": [
        "#### Explore the dataset"
      ]
    },
    {
      "cell_type": "code",
      "execution_count": 237,
      "metadata": {
        "colab": {
          "base_uri": "https://localhost:8080/",
          "height": 450
        },
        "id": "InFRWbIz1zmr",
        "outputId": "9e61b8bc-6443-4ed3-c195-771033afa8b5"
      },
      "outputs": [
        {
          "output_type": "display_data",
          "data": {
            "text/plain": [
              "<Figure size 640x480 with 1 Axes>"
            ],
            "image/png": "[encoded data removed]"
          },
          "metadata": {}
        }
      ],
      "source": [
        "# Import seaborn\n",
        "import seaborn as sns\n",
        "import matplotlib.pyplot as plt\n",
        "\n",
        "# Count plot\n",
        "sns.countplot(x='feedback', data=df)\n",
        "\n",
        "# Set X-axis and Y-axis labels\n",
        "plt.xlabel('Sentiment Score')\n",
        "plt.ylabel('Number of Records')\n",
        "\n",
        "# Show the plot using show() function\n",
        "plt.show()\n"
      ]
    },
    {
      "cell_type": "markdown",
      "metadata": {
        "id": "IvF42p7b1zmr"
      },
      "source": [
        "#### Feature Generation using CountVectorizer"
      ]
    },
    {
      "cell_type": "code",
      "execution_count": 238,
      "metadata": {
        "id": "d5vsIaRz1zmr",
        "colab": {
          "base_uri": "https://localhost:8080/"
        },
        "outputId": "6da71ecc-19b2-48fd-e5b5-f4d4e1fe305f"
      },
      "outputs": [
        {
          "output_type": "stream",
          "name": "stderr",
          "text": [
            "/usr/local/lib/python3.11/dist-packages/sklearn/feature_extraction/text.py:517: UserWarning: The parameter 'token_pattern' will not be used since 'tokenizer' is not None'\n",
            "  warnings.warn(\n"
          ]
        }
      ],
      "source": [
        "# Import CountVectorizer and RegexTokenizer\n",
        "from nltk.tokenize import RegexpTokenizer\n",
        "from sklearn.feature_extraction.text import CountVectorizer\n",
        "\n",
        "\n",
        "# Create Regex tokenizer for removing special symbols and numeric values\n",
        "regex_tokenizer = RegexpTokenizer(r'[a-zA-Z]+')\n",
        "\n",
        "# Initialize CountVectorizer object\n",
        "count_vectorizer = CountVectorizer(lowercase=True,\n",
        "                     stop_words='english',\n",
        "                     ngram_range = (1,1),\n",
        "                     tokenizer = regex_tokenizer.tokenize)\n",
        "\n",
        "# Fit and transform the dataset\n",
        "count_vectors = count_vectorizer.fit_transform(df['verified_reviews'].values.astype('U'))"
      ]
    },
    {
      "cell_type": "markdown",
      "metadata": {
        "id": "17JCjcdh1zmr"
      },
      "source": [
        "#### Split train and test set"
      ]
    },
    {
      "cell_type": "code",
      "execution_count": 239,
      "metadata": {
        "id": "fKmG3rjW1zms"
      },
      "outputs": [],
      "source": [
        "# Import train_test_split\n",
        "from sklearn.model_selection import train_test_split\n",
        "\n",
        "# Partition data into training and testing set\n",
        "from sklearn.model_selection import train_test_split\n",
        "feature_train, feature_test, target_train, target_test = train_test_split(\n",
        "    count_vectors, df['feedback'], test_size=0.3, random_state=1)"
      ]
    },
    {
      "cell_type": "markdown",
      "metadata": {
        "id": "IL34MmhZ1zms"
      },
      "source": [
        "#### Classification Model Building using Logistic Regression"
      ]
    },
    {
      "cell_type": "code",
      "execution_count": 240,
      "metadata": {
        "id": "Ko12mlSl1zms"
      },
      "outputs": [],
      "source": [
        "# import logistic regression scikit-learn model\n",
        "from sklearn.linear_model import LogisticRegression\n",
        "\n",
        "# instantiate the model\n",
        "logreg = LogisticRegression(solver='lbfgs')\n",
        "\n",
        "# fit the model with data\n",
        "logreg.fit(feature_train,target_train)\n",
        "\n",
        "# Forecast the target variable for given test dataset\n",
        "predictions = logreg.predict(feature_test)"
      ]
    },
    {
      "cell_type": "markdown",
      "metadata": {
        "id": "a_wIcYtI1zms"
      },
      "source": [
        "#### Evaluate the Classification Model"
      ]
    },
    {
      "cell_type": "code",
      "execution_count": 241,
      "metadata": {
        "colab": {
          "base_uri": "https://localhost:8080/"
        },
        "id": "jt2yFf8a1zms",
        "scrolled": true,
        "outputId": "745ff104-43ed-4425-897e-54479732d8d1"
      },
      "outputs": [
        {
          "output_type": "stream",
          "name": "stdout",
          "text": [
            "Logistic Regression Model Accuracy: 0.9428571428571428\n",
            "Logistic Regression Model Precision: 0.952433628318584\n",
            "Logistic Regression Model Recall: 0.9873853211009175\n",
            "Logistic Regression Model F1-Score: 0.9695945945945946\n"
          ]
        }
      ],
      "source": [
        "# Import metrics module for performance evaluation\n",
        "from sklearn.metrics import accuracy_score\n",
        "from sklearn.metrics import precision_score\n",
        "from sklearn.metrics import recall_score\n",
        "from sklearn.metrics import f1_score\n",
        "\n",
        "# Assess model performance using accuracy measure\n",
        "print(\"Logistic Regression Model Accuracy:\",accuracy_score(target_test, predictions))\n",
        "# Calculate model precision\n",
        "print(\"Logistic Regression Model Precision:\",precision_score(target_test, predictions))\n",
        "# Calculate model recall\n",
        "print(\"Logistic Regression Model Recall:\",recall_score(target_test, predictions))\n",
        "# Calculate model f1 score\n",
        "print(\"Logistic Regression Model F1-Score:\",f1_score(target_test, predictions))"
      ]
    },
    {
      "cell_type": "markdown",
      "metadata": {
        "id": "o9MkTVPo1zms"
      },
      "source": [
        "### Classification using TF-IDF"
      ]
    },
    {
      "cell_type": "code",
      "execution_count": 242,
      "metadata": {
        "id": "737UdMvu1zms",
        "colab": {
          "base_uri": "https://localhost:8080/"
        },
        "outputId": "5968d7f0-a7b3-4500-f08e-937d7ecbf712"
      },
      "outputs": [
        {
          "output_type": "stream",
          "name": "stderr",
          "text": [
            "/usr/local/lib/python3.11/dist-packages/sklearn/feature_extraction/text.py:517: UserWarning: The parameter 'token_pattern' will not be used since 'tokenizer' is not None'\n",
            "  warnings.warn(\n"
          ]
        }
      ],
      "source": [
        "# Import TfidfVectorizer and RegexTokenizer\n",
        "from nltk.tokenize import RegexpTokenizer\n",
        "from sklearn.feature_extraction.text import TfidfVectorizer\n",
        "\n",
        "# Create Regex tokenizer for removing special symbols and numeric values\n",
        "regex_tokenizer = RegexpTokenizer(r'[a-zA-Z]+')\n",
        "\n",
        "# Initialize TfidfVectorizer object\n",
        "tfidf = TfidfVectorizer(lowercase=True,stop_words='english',ngram_range = (1,1),tokenizer = regex_tokenizer.tokenize)\n",
        "\n",
        "# Fit and transform the dataset\n",
        "text_tfidf= tfidf.fit_transform(df['verified_reviews'].values.astype('U'))"
      ]
    },
    {
      "cell_type": "code",
      "execution_count": 243,
      "metadata": {
        "id": "9JtyZbrs1zms"
      },
      "outputs": [],
      "source": [
        "# Import train_test_split\n",
        "from sklearn.model_selection import train_test_split\n",
        "\n",
        "# Partition data into training and testing set\n",
        "from sklearn.model_selection import train_test_split\n",
        "feature_train, feature_test, target_train, target_test = train_test_split(\n",
        "    text_tfidf, df['feedback'], test_size=0.3, random_state=1)"
      ]
    },
    {
      "cell_type": "code",
      "execution_count": 244,
      "metadata": {
        "id": "ylg9tJu21zms"
      },
      "outputs": [],
      "source": [
        "# import logistic regression scikit-learn model\n",
        "from sklearn.linear_model import LogisticRegression\n",
        "\n",
        "# instantiate the model\n",
        "logreg = LogisticRegression(solver='lbfgs')\n",
        "\n",
        "# fit the model with data\n",
        "logreg.fit(feature_train,target_train)\n",
        "\n",
        "# Forecast the target variable for given test dataset\n",
        "predictions = logreg.predict(feature_test)"
      ]
    },
    {
      "cell_type": "code",
      "execution_count": 245,
      "metadata": {
        "colab": {
          "base_uri": "https://localhost:8080/"
        },
        "id": "g3h2OeW_1zms",
        "outputId": "ff57845f-72a4-4f9e-a198-c1d821db4745"
      },
      "outputs": [
        {
          "output_type": "stream",
          "name": "stdout",
          "text": [
            "Logistic Regression Model Accuracy: 0.9248677248677248\n",
            "Logistic Regression Model Precision: 0.9247083775185578\n",
            "Logistic Regression Model Recall: 1.0\n",
            "Logistic Regression Model F1-Score: 0.9608815426997245\n"
          ]
        }
      ],
      "source": [
        "# Import metrics module for performance evaluation\n",
        "from sklearn.metrics import accuracy_score\n",
        "from sklearn.metrics import precision_score\n",
        "from sklearn.metrics import recall_score\n",
        "from sklearn.metrics import f1_score\n",
        "\n",
        "# Assess model performance using accuracy measure\n",
        "print(\"Logistic Regression Model Accuracy:\",accuracy_score(target_test, predictions))\n",
        "# Calculate model precision\n",
        "print(\"Logistic Regression Model Precision:\",precision_score(target_test, predictions))\n",
        "# Calculate model recall\n",
        "print(\"Logistic Regression Model Recall:\",recall_score(target_test, predictions))\n",
        "# Calculate model f1 score\n",
        "print(\"Logistic Regression Model F1-Score:\",f1_score(target_test, predictions))"
      ]
    },
    {
      "cell_type": "markdown",
      "metadata": {
        "id": "y2PVAjSw1zms"
      },
      "source": [
        "## Text Similarity"
      ]
    },
    {
      "cell_type": "code",
      "execution_count": 246,
      "metadata": {
        "id": "dHZG4VPv1zms",
        "colab": {
          "base_uri": "https://localhost:8080/"
        },
        "outputId": "dcdea2cf-8edd-4f56-94ca-8cc77c5a6ba5"
      },
      "outputs": [
        {
          "output_type": "execute_result",
          "data": {
            "text/plain": [
              "0.5"
            ]
          },
          "metadata": {},
          "execution_count": 246
        }
      ],
      "source": [
        "def jaccard_similarity(sent1, sent2):\n",
        "    \"\"\"Find text similarity using jaccard similarity\"\"\"\n",
        "\n",
        "    # Tokenize sentences\n",
        "    token1 = set(sent1.split())\n",
        "    token2 = set(sent2.split())\n",
        "\n",
        "    # intersection between tokens of two sentences\n",
        "    intersection_tokens = token1.intersection(token2)\n",
        "\n",
        "    # Union between tokens of two sentences\n",
        "    union_tokens=token1.union(token2)\n",
        "\n",
        "    # Cosine Similarity\n",
        "    sim_= float(len(intersection_tokens) / len(union_tokens))\n",
        "    return sim_\n",
        "\n",
        "# Call function\n",
        "jaccard_similarity('I love pets.','I hate pets.')"
      ]
    },
    {
      "cell_type": "code",
      "execution_count": 247,
      "metadata": {
        "id": "i7jd19bJ1zms",
        "colab": {
          "base_uri": "https://localhost:8080/"
        },
        "outputId": "fd620609-2b36-4f67-b554-e8006adf9d4a"
      },
      "outputs": [
        {
          "output_type": "stream",
          "name": "stdout",
          "text": [
            "[[0.33609693]]\n"
          ]
        }
      ],
      "source": [
        "# Let's import text feature extraction TfidfVectorizer\n",
        "from sklearn.feature_extraction.text import TfidfVectorizer\n",
        "\n",
        "docs=['I love pets.','I hate pets.']\n",
        "\n",
        "# Initialize TfidfVectorizer object\n",
        "tfidf= TfidfVectorizer()\n",
        "\n",
        "# Fit and transform the given data\n",
        "tfidf_vector = tfidf.fit_transform(docs)\n",
        "\n",
        "# Import cosine_similarity metrics\n",
        "from sklearn.metrics.pairwise import cosine_similarity\n",
        "\n",
        "# compute similarity using cosine similarity\n",
        "cos_sim=cosine_similarity(tfidf_vector[0], tfidf_vector[1])\n",
        "print(cos_sim)"
      ]
    },
    {
      "cell_type": "code",
      "execution_count": 248,
      "metadata": {
        "id": "Tgq2J3yG82sv",
        "colab": {
          "base_uri": "https://localhost:8080/"
        },
        "outputId": "04759742-cdbb-4d74-dbe6-3440b078e172"
      },
      "outputs": [
        {
          "output_type": "stream",
          "name": "stdout",
          "text": [
            "0.6362041590639654\n"
          ]
        },
        {
          "output_type": "stream",
          "name": "stderr",
          "text": [
            "<ipython-input-248-3d21f1b822d5>:9: UserWarning: [W007] The model you're using has no word vectors loaded, so the result of the Doc.similarity method will be based on the tagger, parser and NER, which may not give useful similarity judgements. This may happen if you're using one of the small models, e.g. `en_core_web_sm`, which don't ship with word vectors and only use context-sensitive tensors. You can always add your own word vectors, or use one of the larger models instead if available.\n",
            "  print(doc1.similarity(doc2))\n"
          ]
        }
      ],
      "source": [
        "# Load English model for tokenizer, tagger, parser, and NER\n",
        "nlp = spacy.load('en_core_web_sm')\n",
        "\n",
        "# Create documents 123123123\n",
        "doc1 = nlp(u'I love pets.')\n",
        "doc2 = nlp(u'I hate pets')\n",
        "\n",
        "# Find similarity\n",
        "print(doc1.similarity(doc2))"
      ]
    },
    {
      "cell_type": "code",
      "execution_count": 249,
      "metadata": {
        "id": "ULzTxiWY8QmP",
        "colab": {
          "base_uri": "https://localhost:8080/"
        },
        "outputId": "da4ef4ff-2bec-48c4-8a55-56071752983b"
      },
      "outputs": [
        {
          "output_type": "stream",
          "name": "stdout",
          "text": [
            "Collecting en-core-web-lg==3.7.1\n",
            "  Downloading https://github.com/explosion/spacy-models/releases/download/en_core_web_lg-3.7.1/en_core_web_lg-3.7.1-py3-none-any.whl (587.7 MB)\n",
            "\u001b[2K     \u001b[90m━━━━━━━━━━━━━━━━━━━━━━━━━━━━━━━━━━━━━━━━\u001b[0m \u001b[32m587.7/587.7 MB\u001b[0m \u001b[31m?\u001b[0m eta \u001b[36m0:00:00\u001b[0m\n",
            "\u001b[?25hRequirement already satisfied: spacy<3.8.0,>=3.7.2 in /usr/local/lib/python3.11/dist-packages (from en-core-web-lg==3.7.1) (3.7.5)\n",
            "Requirement already satisfied: spacy-legacy<3.1.0,>=3.0.11 in /usr/local/lib/python3.11/dist-packages (from spacy<3.8.0,>=3.7.2->en-core-web-lg==3.7.1) (3.0.12)\n",
            "Requirement already satisfied: spacy-loggers<2.0.0,>=1.0.0 in /usr/local/lib/python3.11/dist-packages (from spacy<3.8.0,>=3.7.2->en-core-web-lg==3.7.1) (1.0.5)\n",
            "Requirement already satisfied: murmurhash<1.1.0,>=0.28.0 in /usr/local/lib/python3.11/dist-packages (from spacy<3.8.0,>=3.7.2->en-core-web-lg==3.7.1) (1.0.12)\n",
            "Requirement already satisfied: cymem<2.1.0,>=2.0.2 in /usr/local/lib/python3.11/dist-packages (from spacy<3.8.0,>=3.7.2->en-core-web-lg==3.7.1) (2.0.11)\n",
            "Requirement already satisfied: preshed<3.1.0,>=3.0.2 in /usr/local/lib/python3.11/dist-packages (from spacy<3.8.0,>=3.7.2->en-core-web-lg==3.7.1) (3.0.9)\n",
            "Requirement already satisfied: thinc<8.3.0,>=8.2.2 in /usr/local/lib/python3.11/dist-packages (from spacy<3.8.0,>=3.7.2->en-core-web-lg==3.7.1) (8.2.5)\n",
            "Requirement already satisfied: wasabi<1.2.0,>=0.9.1 in /usr/local/lib/python3.11/dist-packages (from spacy<3.8.0,>=3.7.2->en-core-web-lg==3.7.1) (1.1.3)\n",
            "Requirement already satisfied: srsly<3.0.0,>=2.4.3 in /usr/local/lib/python3.11/dist-packages (from spacy<3.8.0,>=3.7.2->en-core-web-lg==3.7.1) (2.5.1)\n",
            "Requirement already satisfied: catalogue<2.1.0,>=2.0.6 in /usr/local/lib/python3.11/dist-packages (from spacy<3.8.0,>=3.7.2->en-core-web-lg==3.7.1) (2.0.10)\n",
            "Requirement already satisfied: weasel<0.5.0,>=0.1.0 in /usr/local/lib/python3.11/dist-packages (from spacy<3.8.0,>=3.7.2->en-core-web-lg==3.7.1) (0.4.1)\n",
            "Requirement already satisfied: typer<1.0.0,>=0.3.0 in /usr/local/lib/python3.11/dist-packages (from spacy<3.8.0,>=3.7.2->en-core-web-lg==3.7.1) (0.15.2)\n",
            "Requirement already satisfied: tqdm<5.0.0,>=4.38.0 in /usr/local/lib/python3.11/dist-packages (from spacy<3.8.0,>=3.7.2->en-core-web-lg==3.7.1) (4.67.1)\n",
            "Requirement already satisfied: requests<3.0.0,>=2.13.0 in /usr/local/lib/python3.11/dist-packages (from spacy<3.8.0,>=3.7.2->en-core-web-lg==3.7.1) (2.32.3)\n",
            "Requirement already satisfied: pydantic!=1.8,!=1.8.1,<3.0.0,>=1.7.4 in /usr/local/lib/python3.11/dist-packages (from spacy<3.8.0,>=3.7.2->en-core-web-lg==3.7.1) (2.10.6)\n",
            "Requirement already satisfied: jinja2 in /usr/local/lib/python3.11/dist-packages (from spacy<3.8.0,>=3.7.2->en-core-web-lg==3.7.1) (3.1.6)\n",
            "Requirement already satisfied: setuptools in /usr/local/lib/python3.11/dist-packages (from spacy<3.8.0,>=3.7.2->en-core-web-lg==3.7.1) (75.1.0)\n",
            "Requirement already satisfied: packaging>=20.0 in /usr/local/lib/python3.11/dist-packages (from spacy<3.8.0,>=3.7.2->en-core-web-lg==3.7.1) (24.2)\n",
            "Requirement already satisfied: langcodes<4.0.0,>=3.2.0 in /usr/local/lib/python3.11/dist-packages (from spacy<3.8.0,>=3.7.2->en-core-web-lg==3.7.1) (3.5.0)\n",
            "Requirement already satisfied: numpy>=1.19.0 in /usr/local/lib/python3.11/dist-packages (from spacy<3.8.0,>=3.7.2->en-core-web-lg==3.7.1) (1.26.4)\n",
            "Requirement already satisfied: language-data>=1.2 in /usr/local/lib/python3.11/dist-packages (from langcodes<4.0.0,>=3.2.0->spacy<3.8.0,>=3.7.2->en-core-web-lg==3.7.1) (1.3.0)\n",
            "Requirement already satisfied: annotated-types>=0.6.0 in /usr/local/lib/python3.11/dist-packages (from pydantic!=1.8,!=1.8.1,<3.0.0,>=1.7.4->spacy<3.8.0,>=3.7.2->en-core-web-lg==3.7.1) (0.7.0)\n",
            "Requirement already satisfied: pydantic-core==2.27.2 in /usr/local/lib/python3.11/dist-packages (from pydantic!=1.8,!=1.8.1,<3.0.0,>=1.7.4->spacy<3.8.0,>=3.7.2->en-core-web-lg==3.7.1) (2.27.2)\n",
            "Requirement already satisfied: typing-extensions>=4.12.2 in /usr/local/lib/python3.11/dist-packages (from pydantic!=1.8,!=1.8.1,<3.0.0,>=1.7.4->spacy<3.8.0,>=3.7.2->en-core-web-lg==3.7.1) (4.12.2)\n",
            "Requirement already satisfied: charset-normalizer<4,>=2 in /usr/local/lib/python3.11/dist-packages (from requests<3.0.0,>=2.13.0->spacy<3.8.0,>=3.7.2->en-core-web-lg==3.7.1) (3.4.1)\n",
            "Requirement already satisfied: idna<4,>=2.5 in /usr/local/lib/python3.11/dist-packages (from requests<3.0.0,>=2.13.0->spacy<3.8.0,>=3.7.2->en-core-web-lg==3.7.1) (3.10)\n",
            "Requirement already satisfied: urllib3<3,>=1.21.1 in /usr/local/lib/python3.11/dist-packages (from requests<3.0.0,>=2.13.0->spacy<3.8.0,>=3.7.2->en-core-web-lg==3.7.1) (2.3.0)\n",
            "Requirement already satisfied: certifi>=2017.4.17 in /usr/local/lib/python3.11/dist-packages (from requests<3.0.0,>=2.13.0->spacy<3.8.0,>=3.7.2->en-core-web-lg==3.7.1) (2025.1.31)\n",
            "Requirement already satisfied: blis<0.8.0,>=0.7.8 in /usr/local/lib/python3.11/dist-packages (from thinc<8.3.0,>=8.2.2->spacy<3.8.0,>=3.7.2->en-core-web-lg==3.7.1) (0.7.11)\n",
            "Requirement already satisfied: confection<1.0.0,>=0.0.1 in /usr/local/lib/python3.11/dist-packages (from thinc<8.3.0,>=8.2.2->spacy<3.8.0,>=3.7.2->en-core-web-lg==3.7.1) (0.1.5)\n",
            "Requirement already satisfied: click>=8.0.0 in /usr/local/lib/python3.11/dist-packages (from typer<1.0.0,>=0.3.0->spacy<3.8.0,>=3.7.2->en-core-web-lg==3.7.1) (8.1.8)\n",
            "Requirement already satisfied: shellingham>=1.3.0 in /usr/local/lib/python3.11/dist-packages (from typer<1.0.0,>=0.3.0->spacy<3.8.0,>=3.7.2->en-core-web-lg==3.7.1) (1.5.4)\n",
            "Requirement already satisfied: rich>=10.11.0 in /usr/local/lib/python3.11/dist-packages (from typer<1.0.0,>=0.3.0->spacy<3.8.0,>=3.7.2->en-core-web-lg==3.7.1) (13.9.4)\n",
            "Requirement already satisfied: cloudpathlib<1.0.0,>=0.7.0 in /usr/local/lib/python3.11/dist-packages (from weasel<0.5.0,>=0.1.0->spacy<3.8.0,>=3.7.2->en-core-web-lg==3.7.1) (0.21.0)\n",
            "Requirement already satisfied: smart-open<8.0.0,>=5.2.1 in /usr/local/lib/python3.11/dist-packages (from weasel<0.5.0,>=0.1.0->spacy<3.8.0,>=3.7.2->en-core-web-lg==3.7.1) (7.1.0)\n",
            "Requirement already satisfied: MarkupSafe>=2.0 in /usr/local/lib/python3.11/dist-packages (from jinja2->spacy<3.8.0,>=3.7.2->en-core-web-lg==3.7.1) (3.0.2)\n",
            "Requirement already satisfied: marisa-trie>=1.1.0 in /usr/local/lib/python3.11/dist-packages (from language-data>=1.2->langcodes<4.0.0,>=3.2.0->spacy<3.8.0,>=3.7.2->en-core-web-lg==3.7.1) (1.2.1)\n",
            "Requirement already satisfied: markdown-it-py>=2.2.0 in /usr/local/lib/python3.11/dist-packages (from rich>=10.11.0->typer<1.0.0,>=0.3.0->spacy<3.8.0,>=3.7.2->en-core-web-lg==3.7.1) (3.0.0)\n",
            "Requirement already satisfied: pygments<3.0.0,>=2.13.0 in /usr/local/lib/python3.11/dist-packages (from rich>=10.11.0->typer<1.0.0,>=0.3.0->spacy<3.8.0,>=3.7.2->en-core-web-lg==3.7.1) (2.18.0)\n",
            "Requirement already satisfied: wrapt in /usr/local/lib/python3.11/dist-packages (from smart-open<8.0.0,>=5.2.1->weasel<0.5.0,>=0.1.0->spacy<3.8.0,>=3.7.2->en-core-web-lg==3.7.1) (1.17.2)\n",
            "Requirement already satisfied: mdurl~=0.1 in /usr/local/lib/python3.11/dist-packages (from markdown-it-py>=2.2.0->rich>=10.11.0->typer<1.0.0,>=0.3.0->spacy<3.8.0,>=3.7.2->en-core-web-lg==3.7.1) (0.1.2)\n",
            "\u001b[38;5;2m✔ Download and installation successful\u001b[0m\n",
            "You can now load the package via spacy.load('en_core_web_lg')\n",
            "\u001b[38;5;3m⚠ Restart to reload dependencies\u001b[0m\n",
            "If you are in a Jupyter or Colab notebook, you may need to restart Python in\n",
            "order to load all the package's dependencies. You can do this by selecting the\n",
            "'Restart kernel' or 'Restart runtime' option.\n"
          ]
        }
      ],
      "source": [
        "!python -m spacy download en_core_web_lg"
      ]
    },
    {
      "cell_type": "code",
      "execution_count": 250,
      "metadata": {
        "id": "JSse2W-W1zms",
        "colab": {
          "base_uri": "https://localhost:8080/"
        },
        "outputId": "c490e17b-4d8e-46bf-cced-20670aec602e"
      },
      "outputs": [
        {
          "output_type": "stream",
          "name": "stdout",
          "text": [
            "0.9041243947777828\n"
          ]
        }
      ],
      "source": [
        "# Import spacy\n",
        "import spacy\n",
        "\n",
        "# Load English model for tokenizer, tagger, parser, and NER\n",
        "nlp = spacy.load('en_core_web_lg')\n",
        "\n",
        "# Create documents\n",
        "doc1 = nlp(u'I love pets.')\n",
        "doc2 = nlp(u'I hate pets')\n",
        "\n",
        "# Find similarity\n",
        "print(doc1.similarity(doc2))"
      ]
    },
    {
      "cell_type": "markdown",
      "metadata": {
        "id": "SMRL_eKmL43W"
      },
      "source": [
        "\n",
        "\n",
        "---\n",
        "\n",
        "\n",
        "# [Assignment 1] Sentiment Analysis!\n",
        "Try Sentiment Analysis by following suggenstions.\n",
        "- Use Other dataset: [dataset list](https://research.aimultiple.com/sentiment-analysis-dataset/)\n",
        "- Change your classifier: Other than `Logistic Regression`. [ref](https://www.kaggle.com/code/jeffd23/10-classifier-showdown-in-scikit-learn)\n",
        "- Additional preprocessing: n-gram, stopwords [ref](https://towardsdatascience.com/nlp-preprocessing-with-nltk-3c04ee00edc0)\n",
        "\n",
        "Will grade it only on and off. But briefly tell us what did you try.\n",
        "- Dataset: [tweeteval dataset](https://github.com/cardiffnlp/tweeteval); Use [sentiment](https://github.com/cardiffnlp/tweeteval/tree/main/datasets/sentiment) file. But it's big, so it only uses one-tenth of it.\n",
        "- Change Classifier: Use `SVC(kernel=\"linear\", C=0.025, probability=True)` classifier\n",
        "- Preprocessing: Define a custom toknizer function that applies Porter stemming to each token after tokenization.\n",
        "- Preprocessing: Set `ngram_range=(1,2)`, extract both unigram and bigram"
      ]
    },
    {
      "cell_type": "markdown",
      "metadata": {
        "id": "iEiT1QqTE3np"
      },
      "source": [
        "#### Load the Dataset"
      ]
    },
    {
      "cell_type": "code",
      "execution_count": 251,
      "metadata": {
        "colab": {
          "base_uri": "https://localhost:8080/",
          "height": 306
        },
        "outputId": "1b6bfe79-f4f5-4695-98cf-f79a6e8116ec",
        "id": "HgaiKMYdE3np"
      },
      "outputs": [
        {
          "output_type": "stream",
          "name": "stdout",
          "text": [
            "Train labels count: 45615\n",
            "Train texts count: 45615\n",
            "Test labels count: 12284\n",
            "Test texts count: 12284\n",
            "Sampled Train count: 4562\n",
            "Sampled Test count: 1228\n"
          ]
        },
        {
          "output_type": "execute_result",
          "data": {
            "text/plain": [
              "     feedback                                               text\n",
              "5785        2  Here Is Everything You Should Know About Melan...\n",
              "5786        2                   @user @user Well, good for you! \n",
              "5787        2  I have narrowed it down to 3 priorities (open ...\n",
              "5788        0  @user  Protest to Obama Admin. The country in ...\n",
              "5789        0  @user Sir We Want Rudy As SOS If Not Than Dr. ..."
            ],
            "text/html": [
              "\n",
              "  <div id=\"df-d413c4d1-11e7-4807-9045-0358d4638035\" class=\"colab-df-container\">\n",
              "    <div>\n",
              "<style scoped>\n",
              "    .dataframe tbody tr th:only-of-type {\n",
              "        vertical-align: middle;\n",
              "    }\n",
              "\n",
              "    .dataframe tbody tr th {\n",
              "        vertical-align: top;\n",
              "    }\n",
              "\n",
              "    .dataframe thead th {\n",
              "        text-align: right;\n",
              "    }\n",
              "</style>\n",
              "<table border=\"1\" class=\"dataframe\">\n",
              "  <thead>\n",
              "    <tr style=\"text-align: right;\">\n",
              "      <th></th>\n",
              "      <th>feedback</th>\n",
              "      <th>text</th>\n",
              "    </tr>\n",
              "  </thead>\n",
              "  <tbody>\n",
              "    <tr>\n",
              "      <th>5785</th>\n",
              "      <td>2</td>\n",
              "      <td>Here Is Everything You Should Know About Melan...</td>\n",
              "    </tr>\n",
              "    <tr>\n",
              "      <th>5786</th>\n",
              "      <td>2</td>\n",
              "      <td>@user @user Well, good for you!</td>\n",
              "    </tr>\n",
              "    <tr>\n",
              "      <th>5787</th>\n",
              "      <td>2</td>\n",
              "      <td>I have narrowed it down to 3 priorities (open ...</td>\n",
              "    </tr>\n",
              "    <tr>\n",
              "      <th>5788</th>\n",
              "      <td>0</td>\n",
              "      <td>@user  Protest to Obama Admin. The country in ...</td>\n",
              "    </tr>\n",
              "    <tr>\n",
              "      <th>5789</th>\n",
              "      <td>0</td>\n",
              "      <td>@user Sir We Want Rudy As SOS If Not Than Dr. ...</td>\n",
              "    </tr>\n",
              "  </tbody>\n",
              "</table>\n",
              "</div>\n",
              "    <div class=\"colab-df-buttons\">\n",
              "\n",
              "  <div class=\"colab-df-container\">\n",
              "    <button class=\"colab-df-convert\" onclick=\"convertToInteractive('df-d413c4d1-11e7-4807-9045-0358d4638035')\"\n",
              "            title=\"Convert this dataframe to an interactive table.\"\n",
              "            style=\"display:none;\">\n",
              "\n",
              "  <svg xmlns=\"http://www.w3.org/2000/svg\" height=\"24px\" viewBox=\"0 -960 960 960\">\n",
              "    <path d=\"M120-120v-720h720v720H120Zm60-500h600v-160H180v160Zm220 220h160v-160H400v160Zm0 220h160v-160H400v160ZM180-400h160v-160H180v160Zm440 0h160v-160H620v160ZM180-180h160v-160H180v160Zm440 0h160v-160H620v160Z\"/>\n",
              "  </svg>\n",
              "    </button>\n",
              "\n",
              "  <style>\n",
              "    .colab-df-container {\n",
              "      display:flex;\n",
              "      gap: 12px;\n",
              "    }\n",
              "\n",
              "    .colab-df-convert {\n",
              "      background-color: #E8F0FE;\n",
              "      border: none;\n",
              "      border-radius: 50%;\n",
              "      cursor: pointer;\n",
              "      display: none;\n",
              "      fill: #1967D2;\n",
              "      height: 32px;\n",
              "      padding: 0 0 0 0;\n",
              "      width: 32px;\n",
              "    }\n",
              "\n",
              "    .colab-df-convert:hover {\n",
              "      background-color: #E2EBFA;\n",
              "      box-shadow: 0px 1px 2px rgba(60, 64, 67, 0.3), 0px 1px 3px 1px rgba(60, 64, 67, 0.15);\n",
              "      fill: #174EA6;\n",
              "    }\n",
              "\n",
              "    .colab-df-buttons div {\n",
              "      margin-bottom: 4px;\n",
              "    }\n",
              "\n",
              "    [theme=dark] .colab-df-convert {\n",
              "      background-color: #3B4455;\n",
              "      fill: #D2E3FC;\n",
              "    }\n",
              "\n",
              "    [theme=dark] .colab-df-convert:hover {\n",
              "      background-color: #434B5C;\n",
              "      box-shadow: 0px 1px 3px 1px rgba(0, 0, 0, 0.15);\n",
              "      filter: drop-shadow(0px 1px 2px rgba(0, 0, 0, 0.3));\n",
              "      fill: #FFFFFF;\n",
              "    }\n",
              "  </style>\n",
              "\n",
              "    <script>\n",
              "      const buttonEl =\n",
              "        document.querySelector('#df-d413c4d1-11e7-4807-9045-0358d4638035 button.colab-df-convert');\n",
              "      buttonEl.style.display =\n",
              "        google.colab.kernel.accessAllowed ? 'block' : 'none';\n",
              "\n",
              "      async function convertToInteractive(key) {\n",
              "        const element = document.querySelector('#df-d413c4d1-11e7-4807-9045-0358d4638035');\n",
              "        const dataTable =\n",
              "          await google.colab.kernel.invokeFunction('convertToInteractive',\n",
              "                                                    [key], {});\n",
              "        if (!dataTable) return;\n",
              "\n",
              "        const docLinkHtml = 'Like what you see? Visit the ' +\n",
              "          '<a target=\"_blank\" href=https://colab.research.google.com/notebooks/data_table.ipynb>data table notebook</a>'\n",
              "          + ' to learn more about interactive tables.';\n",
              "        element.innerHTML = '';\n",
              "        dataTable['output_type'] = 'display_data';\n",
              "        await google.colab.output.renderOutput(dataTable, element);\n",
              "        const docLink = document.createElement('div');\n",
              "        docLink.innerHTML = docLinkHtml;\n",
              "        element.appendChild(docLink);\n",
              "      }\n",
              "    </script>\n",
              "  </div>\n",
              "\n",
              "\n",
              "<div id=\"df-5db8ca48-a03c-4d69-8f9e-d00586c4e33f\">\n",
              "  <button class=\"colab-df-quickchart\" onclick=\"quickchart('df-5db8ca48-a03c-4d69-8f9e-d00586c4e33f')\"\n",
              "            title=\"Suggest charts\"\n",
              "            style=\"display:none;\">\n",
              "\n",
              "<svg xmlns=\"http://www.w3.org/2000/svg\" height=\"24px\"viewBox=\"0 0 24 24\"\n",
              "     width=\"24px\">\n",
              "    <g>\n",
              "        <path d=\"M19 3H5c-1.1 0-2 .9-2 2v14c0 1.1.9 2 2 2h14c1.1 0 2-.9 2-2V5c0-1.1-.9-2-2-2zM9 17H7v-7h2v7zm4 0h-2V7h2v10zm4 0h-2v-4h2v4z\"/>\n",
              "    </g>\n",
              "</svg>\n",
              "  </button>\n",
              "\n",
              "<style>\n",
              "  .colab-df-quickchart {\n",
              "      --bg-color: #E8F0FE;\n",
              "      --fill-color: #1967D2;\n",
              "      --hover-bg-color: #E2EBFA;\n",
              "      --hover-fill-color: #174EA6;\n",
              "      --disabled-fill-color: #AAA;\n",
              "      --disabled-bg-color: #DDD;\n",
              "  }\n",
              "\n",
              "  [theme=dark] .colab-df-quickchart {\n",
              "      --bg-color: #3B4455;\n",
              "      --fill-color: #D2E3FC;\n",
              "      --hover-bg-color: #434B5C;\n",
              "      --hover-fill-color: #FFFFFF;\n",
              "      --disabled-bg-color: #3B4455;\n",
              "      --disabled-fill-color: #666;\n",
              "  }\n",
              "\n",
              "  .colab-df-quickchart {\n",
              "    background-color: var(--bg-color);\n",
              "    border: none;\n",
              "    border-radius: 50%;\n",
              "    cursor: pointer;\n",
              "    display: none;\n",
              "    fill: var(--fill-color);\n",
              "    height: 32px;\n",
              "    padding: 0;\n",
              "    width: 32px;\n",
              "  }\n",
              "\n",
              "  .colab-df-quickchart:hover {\n",
              "    background-color: var(--hover-bg-color);\n",
              "    box-shadow: 0 1px 2px rgba(60, 64, 67, 0.3), 0 1px 3px 1px rgba(60, 64, 67, 0.15);\n",
              "    fill: var(--button-hover-fill-color);\n",
              "  }\n",
              "\n",
              "  .colab-df-quickchart-complete:disabled,\n",
              "  .colab-df-quickchart-complete:disabled:hover {\n",
              "    background-color: var(--disabled-bg-color);\n",
              "    fill: var(--disabled-fill-color);\n",
              "    box-shadow: none;\n",
              "  }\n",
              "\n",
              "  .colab-df-spinner {\n",
              "    border: 2px solid var(--fill-color);\n",
              "    border-color: transparent;\n",
              "    border-bottom-color: var(--fill-color);\n",
              "    animation:\n",
              "      spin 1s steps(1) infinite;\n",
              "  }\n",
              "\n",
              "  @keyframes spin {\n",
              "    0% {\n",
              "      border-color: transparent;\n",
              "      border-bottom-color: var(--fill-color);\n",
              "      border-left-color: var(--fill-color);\n",
              "    }\n",
              "    20% {\n",
              "      border-color: transparent;\n",
              "      border-left-color: var(--fill-color);\n",
              "      border-top-color: var(--fill-color);\n",
              "    }\n",
              "    30% {\n",
              "      border-color: transparent;\n",
              "      border-left-color: var(--fill-color);\n",
              "      border-top-color: var(--fill-color);\n",
              "      border-right-color: var(--fill-color);\n",
              "    }\n",
              "    40% {\n",
              "      border-color: transparent;\n",
              "      border-right-color: var(--fill-color);\n",
              "      border-top-color: var(--fill-color);\n",
              "    }\n",
              "    60% {\n",
              "      border-color: transparent;\n",
              "      border-right-color: var(--fill-color);\n",
              "    }\n",
              "    80% {\n",
              "      border-color: transparent;\n",
              "      border-right-color: var(--fill-color);\n",
              "      border-bottom-color: var(--fill-color);\n",
              "    }\n",
              "    90% {\n",
              "      border-color: transparent;\n",
              "      border-bottom-color: var(--fill-color);\n",
              "    }\n",
              "  }\n",
              "</style>\n",
              "\n",
              "  <script>\n",
              "    async function quickchart(key) {\n",
              "      const quickchartButtonEl =\n",
              "        document.querySelector('#' + key + ' button');\n",
              "      quickchartButtonEl.disabled = true;  // To prevent multiple clicks.\n",
              "      quickchartButtonEl.classList.add('colab-df-spinner');\n",
              "      try {\n",
              "        const charts = await google.colab.kernel.invokeFunction(\n",
              "            'suggestCharts', [key], {});\n",
              "      } catch (error) {\n",
              "        console.error('Error during call to suggestCharts:', error);\n",
              "      }\n",
              "      quickchartButtonEl.classList.remove('colab-df-spinner');\n",
              "      quickchartButtonEl.classList.add('colab-df-quickchart-complete');\n",
              "    }\n",
              "    (() => {\n",
              "      let quickchartButtonEl =\n",
              "        document.querySelector('#df-5db8ca48-a03c-4d69-8f9e-d00586c4e33f button');\n",
              "      quickchartButtonEl.style.display =\n",
              "        google.colab.kernel.accessAllowed ? 'block' : 'none';\n",
              "    })();\n",
              "  </script>\n",
              "</div>\n",
              "\n",
              "    </div>\n",
              "  </div>\n"
            ],
            "application/vnd.google.colaboratory.intrinsic+json": {
              "type": "dataframe",
              "summary": "{\n  \"name\": \"df\",\n  \"rows\": 5,\n  \"fields\": [\n    {\n      \"column\": \"feedback\",\n      \"properties\": {\n        \"dtype\": \"category\",\n        \"num_unique_values\": 2,\n        \"samples\": [\n          \"0\",\n          \"2\"\n        ],\n        \"semantic_type\": \"\",\n        \"description\": \"\"\n      }\n    },\n    {\n      \"column\": \"text\",\n      \"properties\": {\n        \"dtype\": \"string\",\n        \"num_unique_values\": 5,\n        \"samples\": [\n          \"@user @user Well, good for you! \",\n          \"@user Sir We Want Rudy As SOS If Not Than Dr. Ben Carson Please you have to listen to our voice We elected you not stupid Romney \"\n        ],\n        \"semantic_type\": \"\",\n        \"description\": \"\"\n      }\n    }\n  ]\n}"
            }
          },
          "metadata": {},
          "execution_count": 251
        }
      ],
      "source": [
        "# Import libraries\n",
        "import pandas as pd\n",
        "\n",
        "# read the dataset\n",
        "#copus_url = ###############\n",
        "import requests\n",
        "\n",
        "# Train 데이터 URL\n",
        "train_labels_url = 'https://raw.githubusercontent.com/cardiffnlp/tweeteval/main/datasets/sentiment/train_labels.txt'\n",
        "train_texts_url = 'https://raw.githubusercontent.com/cardiffnlp/tweeteval/main/datasets/sentiment/train_text.txt'\n",
        "\n",
        "# Test 데이터 URL\n",
        "test_labels_url = 'https://raw.githubusercontent.com/cardiffnlp/tweeteval/main/datasets/sentiment/test_labels.txt'\n",
        "test_texts_url = 'https://raw.githubusercontent.com/cardiffnlp/tweeteval/main/datasets/sentiment/test_text.txt'\n",
        "\n",
        "# Train 데이터 불러오기\n",
        "response_labels_train = requests.get(train_labels_url)\n",
        "train_labels = response_labels_train.text.splitlines()\n",
        "df_train_labels = pd.DataFrame(train_labels, columns=['feedback'])\n",
        "print(\"Train labels count:\", len(df_train_labels))\n",
        "\n",
        "response_texts_train = requests.get(train_texts_url)\n",
        "train_texts = response_texts_train.text.splitlines()\n",
        "df_train_texts = pd.DataFrame(train_texts, columns=['text'])\n",
        "print(\"Train texts count:\", len(df_train_texts))\n",
        "\n",
        "df_train = pd.concat([df_train_labels, df_train_texts], axis=1)\n",
        "\n",
        "# Test 데이터 불러오기\n",
        "response_labels_test = requests.get(test_labels_url)\n",
        "test_labels = response_labels_test.text.splitlines()\n",
        "df_test_labels = pd.DataFrame(test_labels, columns=['feedback'])\n",
        "print(\"Test labels count:\", len(df_test_labels))\n",
        "\n",
        "response_texts_test = requests.get(test_texts_url)\n",
        "test_texts = response_texts_test.text.splitlines()\n",
        "df_test_texts = pd.DataFrame(test_texts, columns=['text'])\n",
        "df_test = pd.concat([df_test_labels, df_test_texts], axis=1)\n",
        "print(\"Test texts count:\", len(df_test_texts))\n",
        "\n",
        "# 각 데이터셋에서 10% 샘플링 (양이 너무 많아서 잘 안돌아갑니다.)\n",
        "df_train_sampled = df_train.sample(frac=0.1, random_state=42)\n",
        "df_test_sampled = df_test.sample(frac=0.1, random_state=42)\n",
        "\n",
        "print(\"Sampled Train count:\", len(df_train_sampled))\n",
        "print(\"Sampled Test count:\", len(df_test_sampled))\n",
        "\n",
        "# Train와 Test 데이터를 수직으로 합치기\n",
        "df = pd.concat([df_train_sampled, df_test_sampled], axis=0, ignore_index=True)\n",
        "#df = pd.concat([df_train, df_test], axis=0, ignore_index=True)\n",
        "# Show top 5-records\n",
        "df.tail()"
      ]
    },
    {
      "cell_type": "markdown",
      "metadata": {
        "id": "5TRWRky2E3nq"
      },
      "source": [
        "#### Explore the dataset"
      ]
    },
    {
      "cell_type": "code",
      "execution_count": 252,
      "metadata": {
        "colab": {
          "base_uri": "https://localhost:8080/",
          "height": 449
        },
        "outputId": "434bd0f6-11fe-4dfc-8699-e3363a4c3125",
        "id": "idTWG-3JE3nq"
      },
      "outputs": [
        {
          "output_type": "display_data",
          "data": {
            "text/plain": [
              "<Figure size 640x480 with 1 Axes>"
            ],
            "image/png": "[encoded data removed]"
          },
          "metadata": {}
        }
      ],
      "source": [
        "# Import seaborn\n",
        "import seaborn as sns\n",
        "import matplotlib.pyplot as plt\n",
        "\n",
        "# Count plot\n",
        "sns.countplot(x='feedback', data=df)\n",
        "\n",
        "# Set X-axis and Y-axis labels\n",
        "plt.xlabel('Sentiment Score')\n",
        "plt.ylabel('Number of Records')\n",
        "\n",
        "# Show the plot using show() function\n",
        "plt.show()\n"
      ]
    },
    {
      "cell_type": "markdown",
      "metadata": {
        "id": "MaUyHGOOE3nq"
      },
      "source": [
        "#### Feature Generation"
      ]
    },
    {
      "cell_type": "code",
      "execution_count": 258,
      "metadata": {
        "id": "YsIRX5j5E3nq",
        "colab": {
          "base_uri": "https://localhost:8080/"
        },
        "outputId": "2d491f9c-28e1-4aef-ecfc-4c4770ff867d"
      },
      "outputs": [
        {
          "output_type": "stream",
          "name": "stdout",
          "text": [
            "Sample tokens from first 5 texts:\n",
            "==============================================\n",
            "Sample 0: ['i', 'forgot', 'all', 'about', 'ice', 'cube', 'be', 'in', 'the', 'movi', 'first', 'sunday', 'i', 'think', 'i', 'seen', 'thi', 'shit', 'in', 'the', 'theater']\n",
            "Sample 1: ['playoff', 'are', 'final', 'set', 'chardon', 'play', 'warren', 'howland', 'in', 'the', 'st', 'round', 'if', 'we', 'win', 'u', 'c', 'we', 'play', 'the', 'winner', 'of', 'kenston', 'v', 'tallmadg']\n",
            "Sample 2: ['are', 'we', 'just', 'go', 'to', 'ignor', 'the', 'fact', 'that', 'ice', 'cube', 'got', 'hi', 'ass', 'whoop', 'by', 'ricki', 'smiley', 'at', 'the', 'begin', 'of', 'friday', 'after', 'next']\n",
            "Sample 3: ['if', 'you', 'live', 'in', 'the', 'south', 'orlando', 'area', 'u', 'c', 'be', 'on', 'the', 'lookout', 'user', 'ha', 'it', 'th', 'site', 'open', 'on', 'octob', 'th', 'near', 'the', 'florida', 'mall']\n",
            "Sample 4: ['first', 'record', 'of', 'colin', 'baker', 'at', 'the', 'bbc', 'bbc', 'serial', 'the', 'road', 'to', 'freedom', 'part', 'shown', 'nov', 'doctorwho']\n",
            "==============================================\n",
            "Sample count_vectors:\n",
            "==============================================\n",
            "['abdul just' 'abdul kalam' 'abdul razaq' 'abdulla' 'abdulla hi'\n",
            " 'abdullah' 'abdullah defect' 'abdullah th' 'abe' 'abe pm']\n",
            "==============================================\n"
          ]
        }
      ],
      "source": [
        "# Import CountVectorizer and RegexTokenizer\n",
        "from nltk.tokenize import RegexpTokenizer\n",
        "from sklearn.feature_extraction.text import CountVectorizer\n",
        "\n",
        "\n",
        "# Create Regex tokenizer for removing special symbols and numeric values\n",
        "regex_tokenizer = RegexpTokenizer(r'[a-zA-Z]+')\n",
        "porter = PorterStemmer()\n",
        "\n",
        "def custom_tokenizer(text):\n",
        "    tokens = regex_tokenizer.tokenize(text)\n",
        "    return [porter.stem(token) for token in tokens]\n",
        "\n",
        "#======================샘플 확인용 코드======================\n",
        "print(\"Sample tokens from first 5 texts:\")\n",
        "print(\"==============================================\")\n",
        "for idx, text in enumerate(df['text'].head(5)):\n",
        "  tokens = custom_tokenizer(text)\n",
        "  print(f\"Sample {idx}: {tokens}\")\n",
        "print(\"==============================================\")\n",
        "#========================================================\n",
        "\n",
        "# Initialize CountVectorizer object\n",
        "count_vectorizer = CountVectorizer(lowercase=True,\n",
        "                                   stop_words='english',\n",
        "                                   ngram_range=(1,2),\n",
        "                                   tokenizer=custom_tokenizer)\n",
        "\n",
        "# Fit and transform the dataset\n",
        "count_vectors = count_vectorizer.fit_transform(df['text'].values.astype('U'))\n",
        "\n",
        "#=================count_vectors 샘플 확인==================\n",
        "print(\"Sample count_vectors:\")\n",
        "print(\"==============================================\")\n",
        "print(count_vectorizer.get_feature_names_out()[40:50])\n",
        "print(\"==============================================\")"
      ]
    },
    {
      "cell_type": "markdown",
      "metadata": {
        "id": "rQoQhIF_E3nq"
      },
      "source": [
        "#### Split train and test set"
      ]
    },
    {
      "cell_type": "code",
      "execution_count": 260,
      "metadata": {
        "id": "ifVhMuK1E3nr"
      },
      "outputs": [],
      "source": [
        "# Import train_test_split\n",
        "from sklearn.model_selection import train_test_split\n",
        "\n",
        "# Partition data into training and testing set\n",
        "from sklearn.model_selection import train_test_split\n",
        "feature_train, feature_test, target_train, target_test = train_test_split(\n",
        "    count_vectors, df['feedback'], test_size=0.3, random_state=1)"
      ]
    },
    {
      "cell_type": "markdown",
      "metadata": {
        "id": "i0LqbdWhE3nr"
      },
      "source": [
        "#### Classification Model Building using Any Machine Learning Model"
      ]
    },
    {
      "cell_type": "code",
      "execution_count": 261,
      "metadata": {
        "id": "I3ryF5V8E3nr"
      },
      "outputs": [],
      "source": [
        "# import model from scikit-learn model\n",
        "\n",
        "from sklearn.svm import SVC\n",
        "\n",
        "# instantiate the model\n",
        "model = SVC(kernel=\"linear\", C=0.025, probability=True)\n",
        "\n",
        "# fit the model with data\n",
        "model.fit(feature_train,target_train)\n",
        "\n",
        "# Forecast the target variable for given test dataset\n",
        "predictions = model.predict(feature_test)"
      ]
    },
    {
      "cell_type": "markdown",
      "metadata": {
        "id": "c98s7XDOE3nr"
      },
      "source": [
        "#### Evaluate the Classification Model"
      ]
    },
    {
      "cell_type": "code",
      "execution_count": 262,
      "metadata": {
        "colab": {
          "base_uri": "https://localhost:8080/"
        },
        "scrolled": true,
        "outputId": "cbad3e88-5d25-4c5d-ee20-2932cf5f9e28",
        "id": "fWAnjR9dE3nr"
      },
      "outputs": [
        {
          "output_type": "stream",
          "name": "stdout",
          "text": [
            "==============================================\n",
            "SVC Model Accuracy: 0.5745538284398388\n",
            "==============================================\n",
            "Macro Averages:\n",
            "SVC Model Precision (macro): 0.6216293604886342\n",
            "SVC Model Recall (macro): 0.4590692481324859\n",
            "SVC Model F1-Score (macro): 0.44414163465206574\n",
            "==============================================\n",
            "Weighted Averages:\n",
            "SVC Model Precision (weighted): 0.6130457627866411\n",
            "SVC Model Recall (weighted): 0.5745538284398388\n",
            "SVC Model F1-Score (weighted): 0.5211668766819331\n",
            "==============================================\n",
            "Micro Averages:\n",
            "SVC Model Precision (micro): 0.5745538284398388\n",
            "SVC Model Recall (micro): 0.5745538284398388\n",
            "SVC Model F1-Score (micro): 0.5745538284398388\n",
            "==============================================\n",
            "Per-Class Scores (average=None):\n",
            "SVC Model Precision (None): [0.61363636 0.53908555 0.71216617]\n",
            "SVC Model Recall (None): [0.08598726 0.89583333 0.39538715]\n",
            "SVC Model F1-Score (None): [0.15083799 0.67311234 0.50847458]\n",
            "==============================================\n"
          ]
        }
      ],
      "source": [
        "# Import metrics module for performance evaluation\n",
        "from sklearn.metrics import accuracy_score\n",
        "from sklearn.metrics import precision_score\n",
        "from sklearn.metrics import recall_score\n",
        "from sklearn.metrics import f1_score\n",
        "\n",
        "# Assess model performance using accuracy measure\n",
        "print(\"==============================================\")\n",
        "print(\"SVC Model Accuracy:\",accuracy_score(target_test, predictions))\n",
        "print(\"==============================================\")\n",
        "print(\"Macro Averages:\")\n",
        "# Calculate model precision\n",
        "print(\"SVC Model Precision (macro):\", precision_score(target_test, predictions, average='macro'))\n",
        "# Calculate model recall\n",
        "print(\"SVC Model Recall (macro):\", recall_score(target_test, predictions, average='macro'))\n",
        "# Calculate model f1 score\n",
        "print(\"SVC Model F1-Score (macro):\", f1_score(target_test, predictions, average='macro'))\n",
        "print(\"==============================================\")\n",
        "\n",
        "print(\"Weighted Averages:\")\n",
        "print(\"SVC Model Precision (weighted):\", precision_score(target_test, predictions, average='weighted'))\n",
        "print(\"SVC Model Recall (weighted):\", recall_score(target_test, predictions, average='weighted'))\n",
        "print(\"SVC Model F1-Score (weighted):\", f1_score(target_test, predictions, average='weighted'))\n",
        "print(\"==============================================\")\n",
        "\n",
        "print(\"Micro Averages:\")\n",
        "print(\"SVC Model Precision (micro):\", precision_score(target_test, predictions, average='micro'))\n",
        "print(\"SVC Model Recall (micro):\", recall_score(target_test, predictions, average='micro'))\n",
        "print(\"SVC Model F1-Score (micro):\", f1_score(target_test, predictions, average='micro'))\n",
        "print(\"==============================================\")\n",
        "\n",
        "print(\"Per-Class Scores (average=None):\")\n",
        "print(\"SVC Model Precision (None):\", precision_score(target_test, predictions, average=None))\n",
        "print(\"SVC Model Recall (None):\", recall_score(target_test, predictions, average=None))\n",
        "print(\"SVC Model F1-Score (None):\", f1_score(target_test, predictions, average=None))\n",
        "print(\"==============================================\")\n"
      ]
    }
  ],
  "metadata": {
    "colab": {
      "provenance": [],
      "gpuType": "T4",
      "include_colab_link": true
    },
    "kernelspec": {
      "display_name": "Python 3",
      "name": "python3"
    },
    "language_info": {
      "codemirror_mode": {
        "name": "ipython",
        "version": 3
      },
      "file_extension": ".py",
      "mimetype": "text/x-python",
      "name": "python",
      "nbconvert_exporter": "python",
      "pygments_lexer": "ipython3",
      "version": "3.8.3"
    }
  },
  "nbformat": 4,
  "nbformat_minor": 0
}